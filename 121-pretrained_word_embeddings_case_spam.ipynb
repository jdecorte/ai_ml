{
  "cells": [
    {
      "cell_type": "markdown",
      "metadata": {},
      "source": [
        "<table align=\"left\">\n",
        "  <td>\n",
        "    <a href=\"https://colab.research.google.com/github/jdecorte/ai_ml/blob/main/121-pretrained_word_embeddings_case_spam.ipynb\" target=\"_parent\"><img src=\"https://colab.research.google.com/assets/colab-badge.svg\" alt=\"Open In Colab\"/></a>\n",
        "  </td>\n",
        "</table>  "
      ]
    },
    {
      "cell_type": "code",
      "execution_count": 1,
      "metadata": {
        "colab": {
          "base_uri": "https://localhost:8080/"
        },
        "id": "CpMifYkx85is",
        "outputId": "7bcf8530-07df-433f-b478-895c35043087"
      },
      "outputs": [
        {
          "name": "stdout",
          "output_type": "stream",
          "text": [
            "2.9.1\n"
          ]
        }
      ],
      "source": [
        "try:\n",
        "  # %tensorflow_version only exists in Colab.\n",
        "  %tensorflow_version 2.x\n",
        "except Exception:\n",
        "  pass\n",
        "\n",
        "# TensorFlow and tf.keras\n",
        "import tensorflow as tf\n",
        "from tensorflow import keras\n",
        "\n",
        "print(tf.__version__)\n",
        "\n",
        "# Helper libraries\n",
        "import numpy as np\n",
        "import matplotlib.pyplot as plt\n",
        "import sklearn as sk\n",
        "import pandas as pd\n",
        "\n",
        "# fix random seed for reproducibility\n",
        "seed = 2020\n",
        "np.random.seed(seed)  \n",
        "\n",
        "import sklearn as sk\n",
        "from sklearn.model_selection import train_test_split\n",
        "\n",
        "from keras.datasets import mnist\n",
        "from keras.models import Sequential\n",
        "from keras.layers import Dense, Dropout, Flatten, Embedding, Conv1D,  MaxPooling1D, GlobalMaxPooling1D\n",
        "from keras.optimizers import Adam\n",
        "from keras.constraints import max_norm\n",
        "from keras.models import load_model\n",
        "\n",
        "\n",
        "import nltk\n"
      ]
    },
    {
      "cell_type": "code",
      "execution_count": 2,
      "metadata": {
        "id": "Ms0fWnI2PyL2"
      },
      "outputs": [],
      "source": [
        "# helper functions for visualisation\n",
        "# plotting the loss functions used in this notebook\n",
        "# we plot the loss we want to optimise on the left (in this case: accuracy)\n",
        "def plot_history(history):\n",
        "  plt.figure(figsize = (12,4))\n",
        "  plt.subplot(1,2,1)\n",
        "\n",
        "  plt.xlabel('Epoch')\n",
        "  plt.ylabel('Accuracy')\n",
        "  plt.plot(history.epoch, np.array(history.history['accuracy']),'g-',\n",
        "           label='Train accuracy')\n",
        "  plt.plot(history.epoch, np.array(history.history['val_accuracy']),'r-',\n",
        "           label = 'Validation accuracy')\n",
        "  plt.legend()\n",
        "\n",
        "  plt.subplot(1,2,2)\n",
        "  plt.xlabel('Epoch')\n",
        "  plt.ylabel('Loss minimised by model')\n",
        "  plt.plot(history.epoch, np.array(history.history['loss']),'g-',\n",
        "           label='Train loss')\n",
        "  plt.plot(history.epoch, np.array(history.history['val_loss']),'r-',\n",
        "           label = 'Validation loss')\n",
        "  plt.legend()"
      ]
    },
    {
      "cell_type": "code",
      "execution_count": 3,
      "metadata": {
        "colab": {
          "base_uri": "https://localhost:8080/"
        },
        "id": "p-FrOQlg_Z-D",
        "outputId": "71a67923-173f-47e0-f101-a6135c7167ec"
      },
      "outputs": [
        {
          "data": {
            "text/plain": [
              "label    object\n",
              "text     object\n",
              "dtype: object"
            ]
          },
          "execution_count": 3,
          "metadata": {},
          "output_type": "execute_result"
        }
      ],
      "source": [
        "df_dataset = pd.read_csv(\"https://raw.githubusercontent.com/jdecorte/ai_ml/main/datasets/SMSSpamCollection.csv\") \n",
        "df_dataset.columns\n",
        "df_dataset.dtypes"
      ]
    },
    {
      "cell_type": "code",
      "execution_count": 4,
      "metadata": {
        "id": "ljOBisG4Eju7"
      },
      "outputs": [
        {
          "data": {
            "text/html": [
              "<div>\n",
              "<style scoped>\n",
              "    .dataframe tbody tr th:only-of-type {\n",
              "        vertical-align: middle;\n",
              "    }\n",
              "\n",
              "    .dataframe tbody tr th {\n",
              "        vertical-align: top;\n",
              "    }\n",
              "\n",
              "    .dataframe thead th {\n",
              "        text-align: right;\n",
              "    }\n",
              "</style>\n",
              "<table border=\"1\" class=\"dataframe\">\n",
              "  <thead>\n",
              "    <tr style=\"text-align: right;\">\n",
              "      <th></th>\n",
              "      <th>label</th>\n",
              "      <th>text</th>\n",
              "    </tr>\n",
              "  </thead>\n",
              "  <tbody>\n",
              "    <tr>\n",
              "      <th>0</th>\n",
              "      <td>ham</td>\n",
              "      <td>Go until jurong point, crazy.. Available only ...</td>\n",
              "    </tr>\n",
              "    <tr>\n",
              "      <th>1</th>\n",
              "      <td>ham</td>\n",
              "      <td>Ok lar... Joking wif u oni...</td>\n",
              "    </tr>\n",
              "    <tr>\n",
              "      <th>2</th>\n",
              "      <td>spam</td>\n",
              "      <td>Free entry in 2 a wkly comp to win FA Cup fina...</td>\n",
              "    </tr>\n",
              "    <tr>\n",
              "      <th>3</th>\n",
              "      <td>ham</td>\n",
              "      <td>U dun say so early hor... U c already then say...</td>\n",
              "    </tr>\n",
              "    <tr>\n",
              "      <th>4</th>\n",
              "      <td>ham</td>\n",
              "      <td>Nah I don't think he goes to usf, he lives aro...</td>\n",
              "    </tr>\n",
              "  </tbody>\n",
              "</table>\n",
              "</div>"
            ],
            "text/plain": [
              "  label                                               text\n",
              "0   ham  Go until jurong point, crazy.. Available only ...\n",
              "1   ham                      Ok lar... Joking wif u oni...\n",
              "2  spam  Free entry in 2 a wkly comp to win FA Cup fina...\n",
              "3   ham  U dun say so early hor... U c already then say...\n",
              "4   ham  Nah I don't think he goes to usf, he lives aro..."
            ]
          },
          "execution_count": 4,
          "metadata": {},
          "output_type": "execute_result"
        }
      ],
      "source": [
        "# Take a look at the data\n",
        "df_dataset.head()"
      ]
    },
    {
      "cell_type": "code",
      "execution_count": 5,
      "metadata": {
        "colab": {
          "base_uri": "https://localhost:8080/",
          "height": 196
        },
        "id": "J8Jl5bZZRIbF",
        "outputId": "4d75789b-51f5-4905-8765-2ea4f2d22358"
      },
      "outputs": [
        {
          "data": {
            "text/html": [
              "<div>\n",
              "<style scoped>\n",
              "    .dataframe tbody tr th:only-of-type {\n",
              "        vertical-align: middle;\n",
              "    }\n",
              "\n",
              "    .dataframe tbody tr th {\n",
              "        vertical-align: top;\n",
              "    }\n",
              "\n",
              "    .dataframe thead th {\n",
              "        text-align: right;\n",
              "    }\n",
              "</style>\n",
              "<table border=\"1\" class=\"dataframe\">\n",
              "  <thead>\n",
              "    <tr style=\"text-align: right;\">\n",
              "      <th></th>\n",
              "      <th>label</th>\n",
              "      <th>text</th>\n",
              "    </tr>\n",
              "  </thead>\n",
              "  <tbody>\n",
              "    <tr>\n",
              "      <th>0</th>\n",
              "      <td>1</td>\n",
              "      <td>Go until jurong point, crazy.. Available only ...</td>\n",
              "    </tr>\n",
              "    <tr>\n",
              "      <th>1</th>\n",
              "      <td>1</td>\n",
              "      <td>Ok lar... Joking wif u oni...</td>\n",
              "    </tr>\n",
              "    <tr>\n",
              "      <th>2</th>\n",
              "      <td>0</td>\n",
              "      <td>Free entry in 2 a wkly comp to win FA Cup fina...</td>\n",
              "    </tr>\n",
              "    <tr>\n",
              "      <th>3</th>\n",
              "      <td>1</td>\n",
              "      <td>U dun say so early hor... U c already then say...</td>\n",
              "    </tr>\n",
              "    <tr>\n",
              "      <th>4</th>\n",
              "      <td>1</td>\n",
              "      <td>Nah I don't think he goes to usf, he lives aro...</td>\n",
              "    </tr>\n",
              "  </tbody>\n",
              "</table>\n",
              "</div>"
            ],
            "text/plain": [
              "   label                                               text\n",
              "0      1  Go until jurong point, crazy.. Available only ...\n",
              "1      1                      Ok lar... Joking wif u oni...\n",
              "2      0  Free entry in 2 a wkly comp to win FA Cup fina...\n",
              "3      1  U dun say so early hor... U c already then say...\n",
              "4      1  Nah I don't think he goes to usf, he lives aro..."
            ]
          },
          "execution_count": 5,
          "metadata": {},
          "output_type": "execute_result"
        }
      ],
      "source": [
        "# Changing spam and ham into 0 and 1\n",
        "df_dataset['label'] = np.where(df_dataset['label'] == \"spam\", 0, 1)\n",
        "df_dataset.head()"
      ]
    },
    {
      "cell_type": "code",
      "execution_count": 6,
      "metadata": {
        "id": "8jeo1-3RGIFC"
      },
      "outputs": [
        {
          "data": {
            "text/html": [
              "<div>\n",
              "<style scoped>\n",
              "    .dataframe tbody tr th:only-of-type {\n",
              "        vertical-align: middle;\n",
              "    }\n",
              "\n",
              "    .dataframe tbody tr th {\n",
              "        vertical-align: top;\n",
              "    }\n",
              "\n",
              "    .dataframe thead th {\n",
              "        text-align: right;\n",
              "    }\n",
              "</style>\n",
              "<table border=\"1\" class=\"dataframe\">\n",
              "  <thead>\n",
              "    <tr style=\"text-align: right;\">\n",
              "      <th></th>\n",
              "      <th>label</th>\n",
              "    </tr>\n",
              "  </thead>\n",
              "  <tbody>\n",
              "    <tr>\n",
              "      <th>count</th>\n",
              "      <td>5572.000000</td>\n",
              "    </tr>\n",
              "    <tr>\n",
              "      <th>mean</th>\n",
              "      <td>0.865937</td>\n",
              "    </tr>\n",
              "    <tr>\n",
              "      <th>std</th>\n",
              "      <td>0.340751</td>\n",
              "    </tr>\n",
              "    <tr>\n",
              "      <th>min</th>\n",
              "      <td>0.000000</td>\n",
              "    </tr>\n",
              "    <tr>\n",
              "      <th>25%</th>\n",
              "      <td>1.000000</td>\n",
              "    </tr>\n",
              "    <tr>\n",
              "      <th>50%</th>\n",
              "      <td>1.000000</td>\n",
              "    </tr>\n",
              "    <tr>\n",
              "      <th>75%</th>\n",
              "      <td>1.000000</td>\n",
              "    </tr>\n",
              "    <tr>\n",
              "      <th>max</th>\n",
              "      <td>1.000000</td>\n",
              "    </tr>\n",
              "  </tbody>\n",
              "</table>\n",
              "</div>"
            ],
            "text/plain": [
              "             label\n",
              "count  5572.000000\n",
              "mean      0.865937\n",
              "std       0.340751\n",
              "min       0.000000\n",
              "25%       1.000000\n",
              "50%       1.000000\n",
              "75%       1.000000\n",
              "max       1.000000"
            ]
          },
          "execution_count": 6,
          "metadata": {},
          "output_type": "execute_result"
        }
      ],
      "source": [
        "# Show the general information about the data\n",
        "df_dataset.describe()"
      ]
    },
    {
      "cell_type": "markdown",
      "metadata": {},
      "source": [
        "Remove stopwords"
      ]
    },
    {
      "cell_type": "code",
      "execution_count": 7,
      "metadata": {},
      "outputs": [],
      "source": [
        "from nltk.corpus import stopwords \n",
        "from nltk.tokenize import word_tokenize \n",
        "import string\n",
        "    \n",
        "def remove_stopwords_en(text):\n",
        "    stop_words_en = set(stopwords.words('english')) \n",
        "    punctuations=\"?:!.,;<>/\\+-\"\n",
        "    # turn the string into a list of words based on separators (blank, comma, etc.)\n",
        "    word_tokens = word_tokenize(text.lower())\n",
        "    # create a list of all words that are neither stopwords nor punctuations\n",
        "    result = [x for x in word_tokens if x not in stop_words_en and x not in punctuations]\n",
        "    \n",
        "    # create a new string of all remaining words\n",
        "    seperator = ' '\n",
        "    return seperator.join(result)\n",
        "\n",
        "df_dataset['text'] = df_dataset['text'].apply(remove_stopwords_en)"
      ]
    },
    {
      "cell_type": "code",
      "execution_count": 8,
      "metadata": {
        "colab": {
          "base_uri": "https://localhost:8080/",
          "height": 196
        },
        "id": "jpTHHeWgG0ce",
        "outputId": "f0e187bf-7d79-4682-aeca-4646f716d940"
      },
      "outputs": [
        {
          "data": {
            "text/html": [
              "<div>\n",
              "<style scoped>\n",
              "    .dataframe tbody tr th:only-of-type {\n",
              "        vertical-align: middle;\n",
              "    }\n",
              "\n",
              "    .dataframe tbody tr th {\n",
              "        vertical-align: top;\n",
              "    }\n",
              "\n",
              "    .dataframe thead th {\n",
              "        text-align: right;\n",
              "    }\n",
              "</style>\n",
              "<table border=\"1\" class=\"dataframe\">\n",
              "  <thead>\n",
              "    <tr style=\"text-align: right;\">\n",
              "      <th></th>\n",
              "      <th>label</th>\n",
              "      <th>text</th>\n",
              "      <th>numberOfWords</th>\n",
              "    </tr>\n",
              "  </thead>\n",
              "  <tbody>\n",
              "    <tr>\n",
              "      <th>0</th>\n",
              "      <td>1</td>\n",
              "      <td>go jurong point crazy .. available bugis n gre...</td>\n",
              "      <td>19</td>\n",
              "    </tr>\n",
              "    <tr>\n",
              "      <th>1</th>\n",
              "      <td>1</td>\n",
              "      <td>ok lar ... joking wif u oni ...</td>\n",
              "      <td>8</td>\n",
              "    </tr>\n",
              "    <tr>\n",
              "      <th>2</th>\n",
              "      <td>0</td>\n",
              "      <td>free entry 2 wkly comp win fa cup final tkts 2...</td>\n",
              "      <td>30</td>\n",
              "    </tr>\n",
              "    <tr>\n",
              "      <th>3</th>\n",
              "      <td>1</td>\n",
              "      <td>u dun say early hor ... u c already say ...</td>\n",
              "      <td>11</td>\n",
              "    </tr>\n",
              "    <tr>\n",
              "      <th>4</th>\n",
              "      <td>1</td>\n",
              "      <td>nah n't think goes usf lives around though</td>\n",
              "      <td>8</td>\n",
              "    </tr>\n",
              "  </tbody>\n",
              "</table>\n",
              "</div>"
            ],
            "text/plain": [
              "   label                                               text  numberOfWords\n",
              "0      1  go jurong point crazy .. available bugis n gre...             19\n",
              "1      1                    ok lar ... joking wif u oni ...              8\n",
              "2      0  free entry 2 wkly comp win fa cup final tkts 2...             30\n",
              "3      1        u dun say early hor ... u c already say ...             11\n",
              "4      1         nah n't think goes usf lives around though              8"
            ]
          },
          "execution_count": 8,
          "metadata": {},
          "output_type": "execute_result"
        }
      ],
      "source": [
        "# What is the average length of the SMS messages. This will be important when we need to truncate the sequences to a maximum length\n",
        "df_dataset['numberOfWords'] = df_dataset.text.str.split().apply(len)\n",
        "df_dataset.head()"
      ]
    },
    {
      "cell_type": "code",
      "execution_count": 9,
      "metadata": {
        "id": "l-4cl8dqHUyU"
      },
      "outputs": [
        {
          "data": {
            "text/plain": [
              "count    5572.000000\n",
              "mean       10.537330\n",
              "std         8.033644\n",
              "min         0.000000\n",
              "25%         5.000000\n",
              "50%         8.000000\n",
              "75%        15.000000\n",
              "max       134.000000\n",
              "Name: numberOfWords, dtype: float64"
            ]
          },
          "execution_count": 9,
          "metadata": {},
          "output_type": "execute_result"
        }
      ],
      "source": [
        "# Show the general information about the column numberOfWords\n",
        "# Notice that 75% of the messages consists of only 23 words or less.\n",
        "df_dataset['numberOfWords'].describe()"
      ]
    },
    {
      "cell_type": "code",
      "execution_count": 10,
      "metadata": {
        "colab": {
          "base_uri": "https://localhost:8080/"
        },
        "id": "lK5zHfTOBQs7",
        "outputId": "57cd2aea-6d28-4326-89a0-129484b9454b"
      },
      "outputs": [
        {
          "name": "stdout",
          "output_type": "stream",
          "text": [
            "X_train shape: (3900, 1)\n",
            "X_test shape: (1672, 1)\n",
            "3900 train samples\n",
            "1672 test samples\n",
            "<class 'pandas.core.frame.DataFrame'>\n"
          ]
        }
      ],
      "source": [
        "# Extract a training & validation split\n",
        "from sklearn.model_selection import train_test_split\n",
        "X = df_dataset.drop(['label','numberOfWords'],axis=1)\n",
        "y = df_dataset['label']\n",
        "X_train, X_test, y_train, y_test = train_test_split(X,y,test_size=0.30)\n",
        "\n",
        "print('X_train shape:', X_train.shape)\n",
        "print('X_test shape:', X_test.shape)\n",
        "print(X_train.shape[0], 'train samples')\n",
        "print(X_test.shape[0], 'test samples')\n",
        "print(type(X_train))"
      ]
    },
    {
      "cell_type": "markdown",
      "metadata": {},
      "source": [
        "For Keras we need to convert pandas dataframes to numpy arrays:"
      ]
    },
    {
      "cell_type": "code",
      "execution_count": 11,
      "metadata": {
        "colab": {
          "base_uri": "https://localhost:8080/"
        },
        "id": "WsAXPQD9cViO",
        "outputId": "86a329f2-3484-42f4-af63-d44b7c1b8205"
      },
      "outputs": [
        {
          "name": "stdout",
          "output_type": "stream",
          "text": [
            "X_train shape: (3900, 1)\n",
            "<class 'numpy.ndarray'>\n"
          ]
        }
      ],
      "source": [
        "X_train = np.asarray(X_train)\n",
        "X_test = np.asarray(X_test)\n",
        "\n",
        "print('X_train shape:', X_train.shape)\n",
        "print(type(X_train))"
      ]
    },
    {
      "cell_type": "code",
      "execution_count": 12,
      "metadata": {
        "colab": {
          "base_uri": "https://localhost:8080/"
        },
        "id": "0YNIcfYeQ8QB",
        "outputId": "f1140ff9-4550-47a4-9333-55dc2ee0c0e2"
      },
      "outputs": [
        {
          "name": "stdout",
          "output_type": "stream",
          "text": [
            "1\n",
            "y_train shape: (3900,)\n",
            "y_test shape: (1672,)\n"
          ]
        }
      ],
      "source": [
        "# look at the label for the first sample\n",
        "print(y_train[0])\n",
        "print('y_train shape:', y_train.shape)\n",
        "print('y_test shape:', y_test.shape)"
      ]
    },
    {
      "cell_type": "markdown",
      "metadata": {
        "id": "cSvPJXT0C0Q8"
      },
      "source": [
        "### Create a vocabulary index\n",
        "\n",
        "Let's use the TextVectorization to index the vocabulary found in the dataset. \n",
        "\n",
        "TextVectorization = \n",
        "- build vocabulary from complete text collection (= all sms's)\n",
        "- assign to each word an index\n",
        "- replace words in dataset by index\n",
        "- limit each text to an maximum length\n",
        "- pad shorter texts with ''\n",
        "\n",
        "Deep Learning systems are often trained on very large datasets that will not fit in RAM. Ingesting a large dataset and preprocessing it efficiently can be tricky to implement with other Deep Learning libraries, but TensorFlow (on which Keras is based) makes it easy thanks to the Data API: you just create a **dataset** object, and tell it where to get the data and how to transform it. TensorFlow takes care of all the implementation details, such as multithreading, queuing, batching, and prefetching."
      ]
    },
    {
      "cell_type": "code",
      "execution_count": 13,
      "metadata": {
        "id": "t9vR-3X7Cy7D"
      },
      "outputs": [],
      "source": [
        "from keras.layers import TextVectorization\n",
        "\n",
        "\n",
        "# max_tokens = integer parameter that will control the maximum size of the vocabulary. \n",
        "# We will only consider the top 20 000 words\n",
        "# output_sequence_length = 25: we will truncate or pad sequences to be actually 25 tokens long.\n",
        "# This is the reason why we calculated the number of words for each message in a previouse step\n",
        "# From the describe we learn that over 75% of the messages are not longer than 25 tokens\n",
        "vectorizer = TextVectorization(max_tokens=20000, output_sequence_length=25)\n",
        "\n",
        "# Make a Tensorflow Dataset from a numpy array. \n",
        "# A tf.data.Dataset represents a potentially large set of elements.\n",
        "text_ds = tf.data.Dataset.from_tensor_slices(X_train)\n",
        "\n",
        "# Call the adapt method to build the vocabulary\n",
        "vectorizer.adapt(text_ds)\n"
      ]
    },
    {
      "cell_type": "code",
      "execution_count": 14,
      "metadata": {
        "colab": {
          "base_uri": "https://localhost:8080/"
        },
        "id": "SQx8k5FECtSU",
        "outputId": "19546e91-db30-4d97-ce8c-8e8446292895"
      },
      "outputs": [
        {
          "data": {
            "text/plain": [
              "['',\n",
              " '[UNK]',\n",
              " 'u',\n",
              " 'call',\n",
              " 's',\n",
              " '2',\n",
              " 'nt',\n",
              " 'ur',\n",
              " 'm',\n",
              " 'get',\n",
              " 'gt',\n",
              " 'lt',\n",
              " '4',\n",
              " 'free',\n",
              " 'ok',\n",
              " 'go',\n",
              " 'know',\n",
              " 'good',\n",
              " 'got',\n",
              " 'like',\n",
              " 'come',\n",
              " 'll',\n",
              " 'time',\n",
              " 'love',\n",
              " 'day']"
            ]
          },
          "execution_count": 14,
          "metadata": {},
          "output_type": "execute_result"
        }
      ],
      "source": [
        "# You can retrieve the computed vocabulary used via vectorizer.get_vocabulary(). \n",
        "# Let's print the top 25 words:\n",
        "vectorizer.get_vocabulary()[:25]"
      ]
    },
    {
      "cell_type": "markdown",
      "metadata": {},
      "source": [
        "- index 0 is reserved for the padding token\n",
        "- index 1 is reserved for \"out of vocabulary\" tokens."
      ]
    },
    {
      "cell_type": "code",
      "execution_count": 15,
      "metadata": {
        "colab": {
          "base_uri": "https://localhost:8080/"
        },
        "id": "VrXr5Ry8Dn_j",
        "outputId": "f9d1387c-8a25-45b4-b449-838f4ca37ddd"
      },
      "outputs": [
        {
          "name": "stdout",
          "output_type": "stream",
          "text": [
            "<class 'tensorflow.python.framework.ops.EagerTensor'>\n"
          ]
        },
        {
          "data": {
            "text/plain": [
              "array([[826,   1,   3,   1, 137,  55,   0,   0,   0,   0,   0,   0,   0,\n",
              "          0,   0,   0,   0,   0,   0,   0,   0,   0,   0,   0,   0]],\n",
              "      dtype=int64)"
            ]
          },
          "execution_count": 15,
          "metadata": {},
          "output_type": "execute_result"
        }
      ],
      "source": [
        "# Let's vectorize a test sentence, based on the vocabulary we created from the training dataset):\n",
        "output = vectorizer([[\"i will call you next week\"]])\n",
        "print(type(output))\n",
        "output.numpy()"
      ]
    },
    {
      "cell_type": "markdown",
      "metadata": {},
      "source": [
        "\"will\" and \"your\" are missing because they have been removed during stopword removal."
      ]
    },
    {
      "cell_type": "markdown",
      "metadata": {
        "id": "h_Iuzq59D-fb"
      },
      "source": [
        "Here's a dictionary mapping words of the vocabulary of the dataset to their indices:"
      ]
    },
    {
      "cell_type": "code",
      "execution_count": 16,
      "metadata": {
        "id": "cYtTe3gQDwEA"
      },
      "outputs": [],
      "source": [
        "voc = vectorizer.get_vocabulary()\n",
        "word_index = dict(zip(voc, range(len(voc))))"
      ]
    },
    {
      "cell_type": "markdown",
      "metadata": {
        "id": "71Eax6cpESR2"
      },
      "source": [
        "As you can see, we obtain the same encoding as above for our test sentence:"
      ]
    },
    {
      "cell_type": "code",
      "execution_count": 19,
      "metadata": {
        "colab": {
          "base_uri": "https://localhost:8080/"
        },
        "id": "UHO0wHTTENcE",
        "outputId": "ebc75077-2dc4-43b1-bced-0626762e27b6"
      },
      "outputs": [
        {
          "data": {
            "text/plain": [
              "[826, 'N/A', 3, 'N/A', 137, 55]"
            ]
          },
          "execution_count": 19,
          "metadata": {},
          "output_type": "execute_result"
        }
      ],
      "source": [
        "test = [\"i\",\"will\",\"call\", \"you\", \"next\", \"week\"]\n",
        "[word_index.get(w,'N/A') for w in test]"
      ]
    },
    {
      "cell_type": "markdown",
      "metadata": {
        "id": "ymT35BgXEbM7"
      },
      "source": [
        "### Load pre-trained word embeddings\n",
        "Let's download pre-trained GloVe embeddings (a 822M zip file).\n",
        "Rather than training our own word vectors from scratch, we will leverage on GloVe. Its authors have released four text files with word vectors trained on different massive web datasets.\n",
        "\n",
        "The archive contains text-encoded vectors of various sizes: 50-dimensional, 100-dimensional, 200-dimensional, 300-dimensional. We'll use the 100D ones.\n",
        "\n",
        "glove.6B = Wikipedia 2014 + Gigaword 5. It was trained on a corpus of 6 billion tokens and contains a vocabulary of 400 000 tokens.\n",
        "\n",
        "You'll need to run the following commands:"
      ]
    },
    {
      "cell_type": "code",
      "execution_count": 17,
      "metadata": {
        "id": "AybfgXLHEimc"
      },
      "outputs": [
        {
          "name": "stdout",
          "output_type": "stream",
          "text": [
            "You are not running on Google Colab\n"
          ]
        }
      ],
      "source": [
        "if 'google.colab' in str(get_ipython()):\n",
        "    colab = True\n",
        "    print ('You are running on Google Colab')\n",
        "else:\n",
        "    colab = False\n",
        "    print ('You are not running on Google Colab')\n",
        "\n",
        "if colab:\n",
        "    !wget http://nlp.stanford.edu/data/glove.6B.zip\n",
        "    from google.colab import drive\n",
        "    drive.mount('/content/gdrive')\n",
        "    !ls '/content'\n",
        "    !unzip -q glove.6B.zip\n",
        "    # After unzipping the downloaded file we find 4 txt files: glove.6B.50d.txt, glove.6B.100d.txt, glove.6B.200d.txt, glove.6B.300d.txt. \n",
        "    # As their filenames suggests, they have vectors with different dimensions.\n",
        "    !ls '/content'\n",
        "    # move glove.6B.100d.txt to My Drive so it will be available for use in the future\n",
        "    !mv '/content/glove.6B.100d.txt' '/content/gdrive/My Drive/glove.6B.100d.txt'\n",
        "\n",
        "# if your are working local you can download the file from http://nlp.stanford.edu/data/glove.6B.zip and unzip it in your datasets directory"
      ]
    },
    {
      "cell_type": "markdown",
      "metadata": {
        "id": "Is4_imN2E2Z3"
      },
      "source": [
        "If we used glove.6B.50d.txt and we printed  the content of the file on console, we could see that each line contain as first element a word followed by 50 real numbers. For instance these are the first two lines, corresponding to tokens \"the\" and \",\":\n",
        "\n",
        "the 0.418 0.24968 -0.41242 0.1217 0.34527 -0.044457 -0.49688 -0.17862 -0.00066023 -0.6566 0.27843 -0.14767 -0.55677 0.14658 -0.0095095 0.011658 0.10204 -0.12792 -0.8443 -0.12181 -0.016801 -0.33279 -0.1552 -0.23131 -0.19181 -1.8823 -0.76746 0.099051 -0.42125 -0.19526 4.0071 -0.18594 -0.52287 -0.31681 0.00059213 0.0074449 0.17778 -0.15897 0.012041 -0.054223 -0.29871 -0.15749 -0.34758 -0.045637 -0.44251 0.18785 0.0027849 -0.18411 -0.11514 -0.78581\n",
        "\n",
        ", 0.013441 0.23682 -0.16899 0.40951 0.63812 0.47709 -0.42852 -0.55641 -0.364 -0.23938 0.13001 -0.063734 -0.39575 -0.48162 0.23291 0.090201 -0.13324 0.078639 -0.41634 -0.15428 0.10068 0.48891 0.31226 -0.1252 -0.037512 -1.5179 0.12612 -0.02442 -0.042961 -0.28351 3.5416 -0.11956 -0.014533 -0.1499 0.21864 -0.33412 -0.13872 0.31806 0.70358 0.44858 -0.080262 0.63003 0.32111 -0.46765 0.22786 0.36034 -0.37818 -0.56657 0.044691 0.30392\n",
        "\n",
        "Let's make a dict mapping words (strings) to their NumPy vector representation:"
      ]
    },
    {
      "cell_type": "code",
      "execution_count": 18,
      "metadata": {
        "colab": {
          "base_uri": "https://localhost:8080/"
        },
        "id": "Tcp1cFCvFASx",
        "outputId": "11271999-0e84-4499-917b-4da63b609171"
      },
      "outputs": [
        {
          "name": "stdout",
          "output_type": "stream",
          "text": [
            "Found 400000 word vectors.\n"
          ]
        }
      ],
      "source": [
        "# we compute an index mapping words to known embeddings\n",
        "# by parsing the data dump of pre-trained embeddings:\n",
        "\n",
        "if colab: \n",
        "  path_to_glove_file = '/content/gdrive/My Drive/glove.6B.100d.txt'\n",
        "else:\n",
        "  path_to_glove_file = 'datasets/glove.6B.100d.txt'\n",
        "\n",
        "embeddings_index = {}\n",
        "\n",
        "with open(path_to_glove_file, encoding='utf-8') as f:\n",
        "    for line in f:\n",
        "\n",
        "      values = line.split()\n",
        "      word = values[0]\n",
        "      coefs = np.asarray(values[1:], dtype='float32')\n",
        "      embeddings_index[word] = coefs\n",
        "\n",
        "print(\"Found %s word vectors.\" % len(embeddings_index))"
      ]
    },
    {
      "cell_type": "markdown",
      "metadata": {
        "id": "2fo3bId0FUVh"
      },
      "source": [
        "Now, let's prepare a corresponding embedding matrix that we can use in a Keras Embedding layer. It's a simple NumPy matrix where entry at index $i$ is the pre-trained vector for the word of index $i$ in our vectorizer's vocabulary. That means we are mapping words from the vocabulary of our dataset to their corresponding coordinates in the 100 dimensional geometric space from Glove. "
      ]
    },
    {
      "cell_type": "code",
      "execution_count": 19,
      "metadata": {
        "colab": {
          "base_uri": "https://localhost:8080/"
        },
        "id": "NrIogMZQFXw9",
        "outputId": "1a137f70-ce23-4322-f8d1-c4751e0cbaef"
      },
      "outputs": [
        {
          "name": "stdout",
          "output_type": "stream",
          "text": [
            "Converted 5400 words (2076 misses)\n",
            "*** shape of the embedding matrix:***\n",
            "(7476, 100)\n",
            "*** Missed words = words not in word_index ***\n",
            "['', '[UNK]', 'thanx', '£1000', '150ppm', 'aight', '150p', '£2000', '£150', '£100']\n",
            "\n",
            "*** i has which index in word_index? ***\n",
            "826\n",
            "\n",
            "*** the vector of 100 floats representing i ***\n",
            "[-0.046539    0.61966002  0.56647003 -0.46584001 -1.18900001  0.44599\n",
            "  0.066035    0.31909999  0.14679    -0.22119001  0.79238999  0.29905\n",
            "  0.16073     0.025324    0.18678001 -0.31000999 -0.28108001  0.60514998\n",
            " -1.0654      0.52476001  0.064152    1.03579998 -0.40779001 -0.38011\n",
            "  0.30801001  0.59964001 -0.26991001 -0.76034999  0.94221997 -0.46919\n",
            " -0.18278     0.90652001  0.79671001  0.24824999  0.25713     0.6232\n",
            " -0.44768     0.65357     0.76902002 -0.51229    -0.44332999 -0.21867\n",
            "  0.38370001 -1.14830005 -0.94397998 -0.15062     0.30012    -0.57805997\n",
            "  0.20175    -1.65910006 -0.079195    0.026423    0.22051001  0.99713999\n",
            " -0.57538998 -2.72659993  0.31448001  0.70521998  1.43809998  0.99125999\n",
            "  0.13976     1.34739995 -1.1753      0.0039503   1.02980006  0.064637\n",
            "  0.90886998  0.82871997 -0.47003001 -0.10575     0.5916     -0.42210001\n",
            "  0.57331002 -0.54114002  0.10768     0.39783999 -0.048744    0.064596\n",
            " -0.61436999 -0.28600001  0.50669998 -0.49757999 -0.81569999  0.16407999\n",
            " -1.96300006 -0.26693001 -0.37593001 -0.95846999 -0.85839999 -0.71577001\n",
            " -0.32343    -0.43121001  0.41391999  0.28374001 -0.70931     0.15003\n",
            " -0.2154     -0.37616    -0.032502    0.80620003]\n",
            "\n",
            "*** cat has which index in word_index? ***\n",
            "2032\n",
            "\n",
            "*** the vector of 100 floats representing cat ***\n",
            "[ 0.23088001  0.28283     0.6318     -0.59411001 -0.58599001  0.63255\n",
            "  0.24402    -0.14108001  0.060815   -0.78979999 -0.29102001  0.14286999\n",
            "  0.72273999  0.20428     0.1407      0.98756999  0.52533001  0.097456\n",
            "  0.8822      0.51221001  0.40204     0.21168999 -0.013109   -0.71616\n",
            "  0.55387002  1.14520001 -0.88044    -0.50216001 -0.22814     0.023885\n",
            "  0.1072      0.083739    0.55014998  0.58478999  0.75816     0.45706001\n",
            " -0.28001001  0.25224999  0.68965    -0.60971999  0.19577999  0.044209\n",
            " -0.31136    -0.68826002 -0.22721     0.46184999 -0.77161998  0.10208\n",
            "  0.55636001  0.067417   -0.57207     0.23735     0.47170001  0.82765001\n",
            " -0.29262999 -1.34220004 -0.099277    0.28139001  0.41604     0.10583\n",
            "  0.62203002  0.89495999 -0.23446     0.51349002  0.99378997  1.1846\n",
            " -0.16364001  0.20653     0.73853999  0.24059001 -0.96473002  0.13481\n",
            " -0.0072484   0.33015999 -0.12365     0.27191001 -0.40950999  0.021909\n",
            " -0.60689998  0.40755001  0.19566    -0.41802001  0.18636    -0.032652\n",
            " -0.78570998 -0.13846999  0.044007   -0.084423    0.04911     0.24104001\n",
            "  0.45273    -0.18682     0.46182001  0.089068   -0.18185    -0.01523\n",
            " -0.73680001 -0.14532     0.15104    -0.71493   ]\n"
          ]
        }
      ],
      "source": [
        "num_tokens = len(voc) \n",
        "# each word is represented by a vector of 100 floats (glove.6B.100d.txt)\n",
        "embedding_dim = 100\n",
        "hits = 0\n",
        "misses = 0\n",
        "missed_words = []\n",
        "\n",
        "# Prepare embedding matrix\n",
        "embedding_matrix = np.zeros((num_tokens, embedding_dim))\n",
        "# word_index is a dictionary that maps each word to an index\n",
        "# we loop through all the words of word_index.items()\n",
        "# the items() method of a dictionary returns a list of tuples (key, index) for all elements in the dictionary\n",
        "for word, i in word_index.items():\n",
        "# we try to retrieve the vector of 100 floats for this word out of embeddings_index  \n",
        "    embedding_vector = embeddings_index.get(word)\n",
        "# if we found the corresponding vector of 100 floats    \n",
        "    if embedding_vector is not None:\n",
        "      # we put the vector on position i of embedding_matrix\n",
        "        embedding_matrix[i] = embedding_vector\n",
        "        hits += 1    \n",
        "    else:\n",
        "      # Words not found in embedding index will be all-zeros.    \n",
        "        misses += 1\n",
        "        missed_words.append(word)\n",
        "        \n",
        "print(\"Converted %d words (%d misses)\" % (hits, misses))\n",
        "\n",
        "print(\"*** shape of the embedding matrix:***\")\n",
        "print(embedding_matrix.shape)\n",
        "\n",
        "print(\"*** Missed words = words not in word_index ***\")\n",
        "print(missed_words[0:10])\n",
        "print()\n",
        "print(\"*** i has which index in word_index? ***\")\n",
        "index_i = word_index['i']\n",
        "print(index_i)\n",
        "print()\n",
        "print(\"*** the vector of 100 floats representing i ***\")\n",
        "print(embedding_matrix[index_i])\n",
        "print()\n",
        "print(\"*** cat has which index in word_index? ***\")\n",
        "index_cat = word_index['cat']\n",
        "print(index_cat)\n",
        "print()\n",
        "print(\"*** the vector of 100 floats representing cat ***\")\n",
        "print(embedding_matrix[index_cat])"
      ]
    },
    {
      "cell_type": "markdown",
      "metadata": {
        "id": "aElU90qXVV0I"
      },
      "source": [
        "### Prepare the data\n",
        "First, convert our list-of-strings data to NumPy arrays of integer indices. The arrays are right-padded."
      ]
    },
    {
      "cell_type": "code",
      "execution_count": 25,
      "metadata": {
        "colab": {
          "base_uri": "https://localhost:8080/"
        },
        "id": "3x07Drl07zwE",
        "outputId": "88ab9376-38ee-4e6f-c413-f920f3db4632"
      },
      "outputs": [
        {
          "name": "stdout",
          "output_type": "stream",
          "text": [
            "[[ 111  905 3777    0    0    0    0    0    0    0    0    0    0    0\n",
            "     0    0    0    0    0    0    0    0    0    0    0]\n",
            " [  14   53  365   83 1148 4838  174 5531  261    0    0    0    0    0\n",
            "     0    0    0    0    0    0    0    0    0    0    0]\n",
            " [  53  273  192  106    6  203 1088  144    0    0    0    0    0    0\n",
            "     0    0    0    0    0    0    0    0    0    0    0]\n",
            " [2376  125  144    0    0    0    0    0    0    0    0    0    0    0\n",
            "     0    0    0    0    0    0    0    0    0    0    0]\n",
            " [  14    0    0    0    0    0    0    0    0    0    0    0    0    0\n",
            "     0    0    0    0    0    0    0    0    0    0    0]]\n",
            "(3900, 1)\n",
            "(1672, 1)\n",
            "(3900, 25)\n",
            "(1672, 25)\n",
            "----------------\n",
            "[1 1 1 ... 1 1 1]\n",
            "(3900,)\n",
            "(1672,)\n"
          ]
        }
      ],
      "source": [
        "X_train_final = vectorizer(np.array([s for s in X_train])).numpy()\n",
        "X_test_final = vectorizer(np.array([s for s in X_test])).numpy()\n",
        "\n",
        "y_train_final = np.array(y_train)\n",
        "y_test_final = np.array(y_test)\n",
        "\n",
        "print(X_train_final[:5])\n",
        "print(X_train.shape)\n",
        "print(X_test.shape)\n",
        "print(X_train_final.shape)\n",
        "print(X_test_final.shape)\n",
        "print('----------------')\n",
        "print(y_train_final)\n",
        "print(y_train_final.shape)\n",
        "print(y_test_final.shape)"
      ]
    },
    {
      "cell_type": "markdown",
      "metadata": {},
      "source": [
        "### Build the model\n",
        "- Keras provides many preprocessing layers. We have seen earlier the `Flatten()` layer as an example.  \n",
        "- Another exampel is the `Embedding()` layer.  \n",
        "- It turns positive integers (indexes) into dense vectors of fixed size.  \n",
        "        e.g. [[4], [20]] -> [[0.25, 0.1], [0.6, -0.2]]\n",
        "- We use it to load the pre-trained word embeddings matrix into an Embedding layer.\n",
        "- All that the Embedding layer does is to map the integer inputs to the vectors found at the corresponding index in the embedding matrix, so it will map for each sms message the index of each word to the coordinates in the geometry.\n",
        "- The `keras.layers.Embedding` layer handles an embedding matrix, which is trainable by default. \n",
        "- We need to set `trainable=False` so as to keep the embeddings fixed (we don't want to update them during training because we use pretrained word embeddings)."
      ]
    },
    {
      "cell_type": "code",
      "execution_count": 26,
      "metadata": {},
      "outputs": [],
      "source": [
        "keras.backend.clear_session()\n",
        "np.random.seed(42)\n",
        "tf.random.set_seed(42)"
      ]
    },
    {
      "cell_type": "code",
      "execution_count": 27,
      "metadata": {},
      "outputs": [
        {
          "data": {
            "text/plain": [
              "7476"
            ]
          },
          "execution_count": 27,
          "metadata": {},
          "output_type": "execute_result"
        }
      ],
      "source": [
        "num_tokens"
      ]
    },
    {
      "cell_type": "code",
      "execution_count": 28,
      "metadata": {},
      "outputs": [],
      "source": [
        "num_classes = 2\n",
        "\n",
        "def initial_model():\n",
        "    # we create a variable called model, and we set it equal to an instance of a Sequential object.\n",
        "    model = Sequential()\n",
        "\n",
        "    model.add(Embedding(input_dim=num_tokens, output_dim=embedding_dim, input_length=25,\n",
        "                        embeddings_initializer=keras.initializers.Constant(embedding_matrix),trainable=False))\n",
        "    model.add(keras.layers.Flatten(input_shape=[num_tokens, embedding_dim]))\n",
        "\n",
        "    model.add(keras.layers.Dense(100, activation=\"elu\", kernel_initializer=\"he_normal\"))\n",
        "    model.add(keras.layers.Dropout(rate=0.4))\n",
        "    model.add(keras.layers.Dense(100, activation=\"elu\", kernel_initializer=\"he_normal\"))\n",
        "    model.add(keras.layers.Dropout(rate=0.4))\n",
        "    model.add(keras.layers.Dense(100, activation=\"elu\", kernel_initializer=\"he_normal\"))\n",
        "    model.add(keras.layers.Dropout(rate=0.4))\n",
        "    model.add(keras.layers.Dense(100, activation=\"elu\", kernel_initializer=\"he_normal\"))\n",
        "    model.add(keras.layers.Dropout(rate=0.4))\n",
        "    model.add(Dense(num_classes, activation='softmax'))\n",
        "\n",
        "\n",
        "    # Before we can train our model, we must compile it\n",
        "    # To the compile() function, we are passing the optimizer, the loss function, and the metrics that we would like to see. \n",
        "    # Notice that the optimizer we have specified is called Adam. Adam is just a variant of SGD. \n",
        "    model.compile(loss=\"sparse_categorical_crossentropy\",\n",
        "                  optimizer= tf.keras.optimizers.Adam(learning_rate = 0.01),\n",
        "                  metrics=['accuracy']) \n",
        "    return model\n"
      ]
    },
    {
      "cell_type": "code",
      "execution_count": 29,
      "metadata": {
        "colab": {
          "base_uri": "https://localhost:8080/"
        },
        "id": "SpGrdwWQ85iu",
        "outputId": "f889e35b-ab9f-417f-a753-17596650fcb6"
      },
      "outputs": [
        {
          "name": "stdout",
          "output_type": "stream",
          "text": [
            "Model: \"sequential\"\n",
            "_________________________________________________________________\n",
            " Layer (type)                Output Shape              Param #   \n",
            "=================================================================\n",
            " embedding (Embedding)       (None, 25, 100)           747600    \n",
            "                                                                 \n",
            " flatten (Flatten)           (None, 2500)              0         \n",
            "                                                                 \n",
            " dense (Dense)               (None, 100)               250100    \n",
            "                                                                 \n",
            " dropout (Dropout)           (None, 100)               0         \n",
            "                                                                 \n",
            " dense_1 (Dense)             (None, 100)               10100     \n",
            "                                                                 \n",
            " dropout_1 (Dropout)         (None, 100)               0         \n",
            "                                                                 \n",
            " dense_2 (Dense)             (None, 100)               10100     \n",
            "                                                                 \n",
            " dropout_2 (Dropout)         (None, 100)               0         \n",
            "                                                                 \n",
            " dense_3 (Dense)             (None, 100)               10100     \n",
            "                                                                 \n",
            " dropout_3 (Dropout)         (None, 100)               0         \n",
            "                                                                 \n",
            " dense_4 (Dense)             (None, 2)                 202       \n",
            "                                                                 \n",
            "=================================================================\n",
            "Total params: 1,028,202\n",
            "Trainable params: 280,602\n",
            "Non-trainable params: 747,600\n",
            "_________________________________________________________________\n"
          ]
        }
      ],
      "source": [
        "model_1 = initial_model()\n",
        "model_1.summary()"
      ]
    },
    {
      "cell_type": "markdown",
      "metadata": {},
      "source": [
        "### Train the model"
      ]
    },
    {
      "cell_type": "code",
      "execution_count": 30,
      "metadata": {},
      "outputs": [
        {
          "name": "stdout",
          "output_type": "stream",
          "text": [
            "Epoch 1/20\n",
            "61/61 [==============================] - 1s 5ms/step - loss: 0.5409 - accuracy: 0.8723 - val_loss: 0.1559 - val_accuracy: 0.9402\n",
            "Epoch 2/20\n",
            "61/61 [==============================] - 0s 4ms/step - loss: 0.1596 - accuracy: 0.9464 - val_loss: 0.1055 - val_accuracy: 0.9671\n",
            "Epoch 3/20\n",
            "61/61 [==============================] - 0s 4ms/step - loss: 0.1157 - accuracy: 0.9631 - val_loss: 0.1580 - val_accuracy: 0.9671\n",
            "Epoch 4/20\n",
            "61/61 [==============================] - 0s 4ms/step - loss: 0.1025 - accuracy: 0.9710 - val_loss: 0.1256 - val_accuracy: 0.9587\n"
          ]
        }
      ],
      "source": [
        "# We now add batch size to the mix of training parameters\n",
        "# If you don't specify batch size below, all training data will be used for each learning step\n",
        "batch_size = 64\n",
        "epochs = 20\n",
        "\n",
        "early_stopping_cb = keras.callbacks.EarlyStopping(patience=2,\n",
        "                                                  restore_best_weights=True)\n",
        "\n",
        "\n",
        "\n",
        "history_1 = model_1.fit(X_train_final, y_train_final,\n",
        "                    batch_size=batch_size,\n",
        "                    epochs=epochs,\n",
        "                    verbose=1,\n",
        "                    validation_data=(X_test_final, y_test_final),\n",
        "                    callbacks=[early_stopping_cb]\n",
        "                    )\n"
      ]
    },
    {
      "cell_type": "markdown",
      "metadata": {},
      "source": [
        "### Evaluate the model"
      ]
    },
    {
      "cell_type": "code",
      "execution_count": 31,
      "metadata": {
        "colab": {
          "base_uri": "https://localhost:8080/",
          "height": 380
        },
        "id": "nCkT4JxmfP73",
        "outputId": "b1f680f1-62f7-46a8-d7da-2bde2fbb5c2f"
      },
      "outputs": [
        {
          "name": "stdout",
          "output_type": "stream",
          "text": [
            "Training set Accuracy:   0.98\n",
            "Training set Loss: 0.0611\n",
            "\n",
            "Validation set Accuracy:   0.97\n",
            "Validation set Loss: 0.1055\n",
            "\n"
          ]
        },
        {
          "data": {
            "image/png": "[encoded data removed]",
            "text/plain": [
              "<Figure size 864x288 with 2 Axes>"
            ]
          },
          "metadata": {
            "needs_background": "light"
          },
          "output_type": "display_data"
        }
      ],
      "source": [
        "# model_1 now contains the model at the end of the training run\n",
        "# We analyse the result:\n",
        "\n",
        "[train_loss, train_accuracy] = model_1.evaluate(X_train_final, y_train_final, verbose=0)\n",
        "print(\"Training set Accuracy:{:7.2f}\".format(train_accuracy))\n",
        "print(\"Training set Loss:{:7.4f}\\n\".format(train_loss))\n",
        "\n",
        "[val_loss, val_accuracy] = model_1.evaluate(X_test_final, y_test_final, verbose=0)\n",
        "print(\"Validation set Accuracy:{:7.2f}\".format(val_accuracy))\n",
        "print(\"Validation set Loss:{:7.4f}\\n\".format(val_loss))\n",
        "\n",
        "#Now we visualise what happened during training\n",
        "plot_history(history_1)"
      ]
    },
    {
      "cell_type": "markdown",
      "metadata": {},
      "source": [
        "### Use the model"
      ]
    },
    {
      "cell_type": "code",
      "execution_count": 32,
      "metadata": {
        "colab": {
          "base_uri": "https://localhost:8080/"
        },
        "id": "fACX0ULsgDjG",
        "outputId": "0ffc207f-d3b6-46b1-ccad-ae005b65889d"
      },
      "outputs": [
        {
          "name": "stdout",
          "output_type": "stream",
          "text": [
            "1/1 [==============================] - 0s 79ms/step\n",
            "[[0.99643564 0.00356442]]\n"
          ]
        }
      ],
      "source": [
        "X_example = vectorizer(np.array([s for s in [\"URGENT! Your Mobile No. was awarded a €2000 Bonus Caller Prize\"]])).numpy()\n",
        "pred = model_1.predict([X_example])\n",
        "print(pred)"
      ]
    },
    {
      "cell_type": "code",
      "execution_count": 33,
      "metadata": {
        "colab": {
          "base_uri": "https://localhost:8080/"
        },
        "id": "vbMA5Svgg6od",
        "outputId": "2c3693b6-eb1f-4042-a2e7-3b1aecb35c0c"
      },
      "outputs": [
        {
          "name": "stdout",
          "output_type": "stream",
          "text": [
            "1/1 [==============================] - 0s 12ms/step\n",
            "[[7.1021464e-06 9.9999285e-01]]\n"
          ]
        }
      ],
      "source": [
        "X_example = vectorizer(np.array([s for s in [\"Please call me\"]])).numpy()\n",
        "pred = model_1.predict([X_example])\n",
        "print(pred)"
      ]
    }
  ],
  "metadata": {
    "colab": {
      "collapsed_sections": [],
      "name": "Kopie van Using pretrained word embeddings.ipynb",
      "provenance": []
    },
    "interpreter": {
      "hash": "11938c6bc6919ae2720b4d5011047913343b08a43b18698fd82dedb0d4417594"
    },
    "kernelspec": {
      "display_name": "Python 3.9.12 64-bit",
      "language": "python",
      "name": "python3"
    },
    "language_info": {
      "codemirror_mode": {
        "name": "ipython",
        "version": 3
      },
      "file_extension": ".py",
      "mimetype": "text/x-python",
      "name": "python",
      "nbconvert_exporter": "python",
      "pygments_lexer": "ipython3",
      "version": "3.9.12"
    }
  },
  "nbformat": 4,
  "nbformat_minor": 0
}
