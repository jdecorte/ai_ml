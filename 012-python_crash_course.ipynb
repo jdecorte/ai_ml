{
  "cells": [
    {
      "cell_type": "markdown",
      "metadata": {
        "id": "89nGynvGh_cd"
      },
      "source": [
        "# Introduction Python\n",
        "How important is Python: https://www.tiobe.com/tiobe-index/ \n",
        "\n",
        "Python notebook is example of \"Read–eval–print\" loop. "
      ]
    },
    {
      "cell_type": "markdown",
      "metadata": {
        "id": "xNt-KOLvh_cg"
      },
      "source": [
        "## Comments"
      ]
    },
    {
      "cell_type": "markdown",
      "metadata": {
        "id": "pryxljUoh_cg"
      },
      "source": [
        "Like most languages, Python has a number of basic types including integers, floats, booleans, and strings.\n",
        "These data types behave in ways that we are familiar with from other programming languages.\n",
        "You don't have to specify the type yourself. Python determines the type itself based on the content of the variable. "
      ]
    },
    {
      "cell_type": "code",
      "execution_count": 1,
      "metadata": {
        "id": "phWYQ0IGh_cg",
        "outputId": "35e27c15-91df-455f-ff18-33fa1732b359"
      },
      "outputs": [
        {
          "data": {
            "text/plain": [
              "'Another way of adding comments is using triple quotation mark.\\nIn this case, the comment may cover \\nmultiple lines '"
            ]
          },
          "execution_count": 1,
          "metadata": {},
          "output_type": "execute_result"
        }
      ],
      "source": [
        "# 1 line comment in Python\n",
        "'''Another way of adding comments is using triple quotation mark.\n",
        "In this case, the comment may cover \n",
        "multiple lines '''"
      ]
    },
    {
      "cell_type": "markdown",
      "metadata": {
        "id": "oT8kw1pFh_ch"
      },
      "source": [
        "## Basic data types"
      ]
    },
    {
      "cell_type": "markdown",
      "metadata": {
        "id": "c2eC14GZh_ci"
      },
      "source": [
        "### Numbers\n",
        "Integers and floats work as you would expect from other languages:"
      ]
    },
    {
      "cell_type": "code",
      "execution_count": 2,
      "metadata": {
        "id": "2B1NaNYYh_ci",
        "outputId": "c21c312d-8e03-4a49-c5bf-422d45cd6a50"
      },
      "outputs": [
        {
          "name": "stdout",
          "output_type": "stream",
          "text": [
            "<class 'int'>\n",
            "3\n",
            "4\n",
            "2\n",
            "6\n",
            "9\n",
            "4\n",
            "8\n",
            "<class 'float'>\n",
            "3.5 4.5 7.0 12.25\n"
          ]
        }
      ],
      "source": [
        "x = 3\n",
        "print(type(x)) # Prints \"<class 'int'>\"\n",
        "print(x)       # Prints \"3\"\n",
        "print(x + 1)   # Addition; prints \"4\"\n",
        "print(x - 1)   # Subtraction; prints \"2\"\n",
        "print(x * 2)   # Multiplication; prints \"6\"\n",
        "print(x ** 2)  # Exponentiation; prints \"9\"\n",
        "x += 1\n",
        "print(x)  # Prints \"4\"\n",
        "x *= 2\n",
        "print(x)  # Prints \"8\"\n",
        "y = 3.5\n",
        "print(type(y)) # Prints \"<class 'float'>\"\n",
        "print(y, y + 1, y * 2, y ** 2) # Prints \"2.5 3.5 5.0 6.25\""
      ]
    },
    {
      "cell_type": "markdown",
      "metadata": {
        "collapsed": true,
        "id": "DQiZkc_Ph_ci"
      },
      "source": [
        "Note that unlike many languages, Python does not have unary increment (x++) or decrement (x--) operators.\n",
        "Python also has built-in types for complex numbers"
      ]
    },
    {
      "cell_type": "markdown",
      "metadata": {
        "collapsed": true,
        "id": "lDElTzvQh_cj"
      },
      "source": [
        "#### Booleans\n",
        "Python implements all of the usual operators for Boolean logic, \n",
        "but uses English words (and, or, not) rather than symbols (&&, ||, etc.):"
      ]
    },
    {
      "cell_type": "code",
      "execution_count": 3,
      "metadata": {
        "id": "Y1YpOLvFh_cj",
        "outputId": "d5ae1559-27b1-4f68-b722-ccdf90afda34"
      },
      "outputs": [
        {
          "name": "stdout",
          "output_type": "stream",
          "text": [
            "<class 'bool'>\n",
            "False\n",
            "True\n",
            "False\n",
            "True\n"
          ]
        }
      ],
      "source": [
        "t = True\n",
        "f = False\n",
        "print(type(t)) # Prints \"<class 'bool'>\"\n",
        "print(t and f) # Logical AND; prints \"False\"\n",
        "print(t or f)  # Logical OR; prints \"True\"\n",
        "print(not t)   # Logical NOT; prints \"False\"\n",
        "print(t != f)  # Logical XOR; prints \"True\""
      ]
    },
    {
      "cell_type": "markdown",
      "metadata": {
        "collapsed": true,
        "id": "zr60Mkezh_ck"
      },
      "source": [
        "#### Strings\n",
        "Python has great support for strings:"
      ]
    },
    {
      "cell_type": "code",
      "execution_count": 4,
      "metadata": {
        "id": "uU_UfRWuh_ck",
        "outputId": "5812b005-ac4c-4b41-b275-ee58dc03eb71"
      },
      "outputs": [
        {
          "name": "stdout",
          "output_type": "stream",
          "text": [
            "hello\n",
            "5\n",
            "hello world\n",
            "hello world 12\n"
          ]
        }
      ],
      "source": [
        "hello = 'hello'    # String literals can use single quotes\n",
        "world = \"world\"    # or double quotes; it does not matter.\n",
        "print(hello)       # Prints \"hello\"\n",
        "print(len(hello))  # String length; prints \"5\"\n",
        "hw = hello + ' ' + world  # String concatenation\n",
        "print(hw)  # prints \"hello world\"\n",
        "hw12 = '%s %s %d' % (hello, world, 12)  # sprintf style string formatting\n",
        "print(hw12)  # prints \"hello world 12\""
      ]
    },
    {
      "cell_type": "markdown",
      "metadata": {
        "collapsed": true,
        "id": "JZK8-F8nh_ck"
      },
      "source": [
        "String objects have a bunch of useful methods; for example:"
      ]
    },
    {
      "cell_type": "code",
      "execution_count": 5,
      "metadata": {
        "id": "TWNAXid8h_ck"
      },
      "outputs": [
        {
          "name": "stdout",
          "output_type": "stream",
          "text": [
            "Hello\n",
            "HELLO\n",
            "  hello\n",
            " hello \n",
            "he(ell)(ell)o\n",
            "world\n"
          ]
        }
      ],
      "source": [
        "s = \"hello\"\n",
        "print(s.capitalize())  # Capitalize a string; prints \"Hello\"\n",
        "print(s.upper())       # Convert a string to uppercase; prints \"HELLO\"\n",
        "print(s.rjust(7))      # Right-justify a string, padding with spaces; prints \"  hello\"\n",
        "print(s.center(7))     # Center a string, padding with spaces; prints \" hello \"\n",
        "print(s.replace('l', '(ell)'))  # Replace all instances of one substring with another;\n",
        "                                # prints \"he(ell)(ell)o\"\n",
        "print('  world '.strip())  # Strip leading and trailing whitespace; prints \"world\""
      ]
    },
    {
      "cell_type": "markdown",
      "metadata": {
        "id": "E8jwD9Hxh_cl"
      },
      "source": [
        "### Conditions"
      ]
    },
    {
      "cell_type": "markdown",
      "metadata": {
        "id": "iduDm-z9h_cl"
      },
      "source": [
        "Python relies on indentation (whitespace at the beginning of a line) \n",
        "to define scope in the code. Other programming languages often use curly-brackets for this purpose.\n",
        "\n",
        "De syntax of the if statement is as follows:\n",
        "if <boolean expression>:\n",
        "    <actions>\n",
        "else:\n",
        "    <actions>\n",
        "\n",
        "Note the colon (:) after the boolean expression, and the fact that <actions> is indented."
      ]
    },
    {
      "cell_type": "code",
      "execution_count": 6,
      "metadata": {
        "id": "eohGIFjPh_cl",
        "outputId": "f544f415-e001-434a-de29-8262188bd881"
      },
      "outputs": [
        {
          "name": "stdout",
          "output_type": "stream",
          "text": [
            "This will be printed if x < 10\n",
            "This will also be printed if x < 10\n",
            "This will be printed anyway\n"
          ]
        }
      ],
      "source": [
        "x = 7\n",
        "if x < 10:\n",
        "    print(\"This will be printed if x < 10\")\n",
        "    print(\"This will also be printed if x < 10\")\n",
        "elif x < 20:\n",
        "    print(\"This will be printed if x >= 10 and x < 20\")\n",
        "    print(\"This will also be printed if  x >= 10 and x < 20\")\n",
        "elif x < 50:\n",
        "    print(\"This will be printed if x >= 20 and x < 50\")\n",
        "    print(\"This will also be printed if  x >= 20 and x < 50\")    \n",
        "else:\n",
        "    print(\"This will be printed if x >= 50\")\n",
        "    print(\"This will also be printed if  x >= 50\")    \n",
        "print(\"This will be printed anyway\")\n",
        "\n",
        "# \"This will be printed if x < 10\"\n",
        "# \"This will also be printed if x < 10\"\n",
        "# \"This will be printed anyway\""
      ]
    },
    {
      "cell_type": "markdown",
      "metadata": {
        "id": "75WpuMESh_cl"
      },
      "source": [
        "### For loop"
      ]
    },
    {
      "cell_type": "raw",
      "metadata": {
        "id": "pCwCSF5ah_cl"
      },
      "source": [
        "De syntax of the for statement is as follows:\n",
        "for <variabele> in <collection>:\n",
        "    <actions>"
      ]
    },
    {
      "cell_type": "code",
      "execution_count": 7,
      "metadata": {
        "id": "ZHqpZCkFh_cl",
        "outputId": "4b690abf-d6fd-43c7-93fd-d82386572758"
      },
      "outputs": [
        {
          "name": "stdout",
          "output_type": "stream",
          "text": [
            "0\n",
            "1\n",
            "2\n",
            "3\n",
            "4\n",
            "5\n",
            "Ready\n"
          ]
        }
      ],
      "source": [
        "for x in range(6):\n",
        "    print(x)\n",
        "print(\"Ready\")\n",
        "\n",
        "# 0\n",
        "# 1\n",
        "# 2\n",
        "# 3\n",
        "# 4 \n",
        "# 5\n",
        "# Ready"
      ]
    },
    {
      "cell_type": "code",
      "execution_count": 8,
      "metadata": {
        "id": "BCc1WV2Yh_cm",
        "outputId": "476fc693-36bf-40fa-869d-0f6315da2086"
      },
      "outputs": [
        {
          "name": "stdout",
          "output_type": "stream",
          "text": [
            "1\n",
            "Ready\n",
            "2\n",
            "Ready\n",
            "3\n",
            "Ready\n",
            "4\n",
            "Ready\n",
            "5\n",
            "Ready\n"
          ]
        }
      ],
      "source": [
        "for x in range(1, 6):\n",
        "    print(x)\n",
        "    print(\"Ready\")\n",
        "\n",
        "# 1\n",
        "# 2\n",
        "# 3\n",
        "# 4 \n",
        "# 5\n",
        "# Ready"
      ]
    },
    {
      "cell_type": "markdown",
      "metadata": {
        "id": "YNHW1Abmh_cm"
      },
      "source": [
        "### While loop"
      ]
    },
    {
      "cell_type": "raw",
      "metadata": {
        "id": "p3YQkgxKh_cm"
      },
      "source": [
        "The syntax of a while statement is:\n",
        "while <boolean expression>:\n",
        "    <actions>"
      ]
    },
    {
      "cell_type": "code",
      "execution_count": 9,
      "metadata": {
        "id": "DYP3WdHdh_cm",
        "outputId": "57d852b7-7e87-4659-e5ac-343845ca9793"
      },
      "outputs": [
        {
          "name": "stdout",
          "output_type": "stream",
          "text": [
            "1\n",
            "2\n",
            "3\n",
            "4\n",
            "5\n",
            "Ready\n"
          ]
        }
      ],
      "source": [
        "num = 1\n",
        "while num <= 5:\n",
        "    print(num)\n",
        "    num += 1\n",
        "print(\"Ready\")\n",
        "\n",
        "# 1\n",
        "# 2\n",
        "# 3\n",
        "# 4 \n",
        "# 5\n",
        "# Ready"
      ]
    },
    {
      "cell_type": "markdown",
      "metadata": {
        "id": "gKLR9c2ah_cm"
      },
      "source": [
        "## Break statement"
      ]
    },
    {
      "cell_type": "code",
      "execution_count": 10,
      "metadata": {
        "id": "nXm7UTq4h_cm",
        "outputId": "529e8918-bba9-4f38-87cf-e837d28625a1"
      },
      "outputs": [
        {
          "name": "stdout",
          "output_type": "stream",
          "text": [
            "The student did not pass\n"
          ]
        }
      ],
      "source": [
        "# A student passes if not one of his scores is less than 5\n",
        "result = \"passes\"\n",
        "for score in (8, 7.5, 9, 6, 6, 6, 4.5, 7, 5, 8, 7, 7.5):\n",
        "    if score < 5.0:\n",
        "        result = \"did not pass\"\n",
        "        # If 1 score is less than 5.5 => the student fails => the loop can be interrupted\n",
        "        break\n",
        "print(\"The student \" + result)\n",
        "\n",
        "# \"The student did not pass\""
      ]
    },
    {
      "cell_type": "markdown",
      "metadata": {
        "id": "ZxqEnrCvh_cm"
      },
      "source": [
        "### Continue statement"
      ]
    },
    {
      "cell_type": "code",
      "execution_count": 11,
      "metadata": {
        "id": "lUsDaWuQh_cn",
        "outputId": "79d51c87-5b52-4444-c08c-4b301b118168"
      },
      "outputs": [
        {
          "name": "stdout",
          "output_type": "stream",
          "text": [
            "1\n",
            "3\n",
            "5\n",
            "7\n",
            "9\n"
          ]
        }
      ],
      "source": [
        "# The odd numbers less than 10 will be printed\n",
        "i = 0\n",
        "while i < 10:\n",
        "    i += 1       \n",
        "    if i % 2 == 0:\n",
        "        continue\n",
        "    print(i)\n",
        "\n",
        "# 1\n",
        "# 3\n",
        "# 5\n",
        "# 7\n",
        "# 9"
      ]
    },
    {
      "cell_type": "markdown",
      "metadata": {
        "id": "cku8jETMh_cn"
      },
      "source": [
        "## Containers\n",
        "Python includes several built-in container types: lists, dictionaries, sets, and tuples."
      ]
    },
    {
      "cell_type": "markdown",
      "metadata": {
        "collapsed": true,
        "id": "r-imB5CXh_cn"
      },
      "source": [
        "### Lists\n",
        "A list is the Python equivalent of an array, but is resizeable and can contain elements of different types."
      ]
    },
    {
      "cell_type": "code",
      "execution_count": 12,
      "metadata": {
        "id": "skiX6Gybh_cn",
        "outputId": "2bdfa385-1262-4c67-f841-ef629057aaa3"
      },
      "outputs": [
        {
          "name": "stdout",
          "output_type": "stream",
          "text": [
            "[3, 1, 2] 2\n",
            "2\n",
            "1\n",
            "[3, 1, 'foo']\n",
            "[3, 1, 'foo', 'bar']\n",
            "bar [3, 1, 'foo']\n",
            "[3, 1, 'baz', 'foo']\n",
            "[3, 1, 'baz']\n",
            "2\n",
            "['baz', 1, 3]\n"
          ]
        }
      ],
      "source": [
        "xs = [3, 1, 2]    # Create a list\n",
        "print(xs, xs[2])  # Prints \"[3, 1, 2] 2\"\n",
        "print(xs[-1])     # Negative indices count from the end of the list; prints \"2\"\n",
        "print(xs.count(1))# Prints 1 (number of times 1 occurs)\n",
        "xs[2] = 'foo'     # Lists can contain elements of different types\n",
        "print(xs)         # Prints \"[3, 1, 'foo']\"\n",
        "xs.append('bar')  # Add a new element to the end of the list\n",
        "print(xs)         # Prints \"[3, 1, 'foo', 'bar']\"\n",
        "x = xs.pop()      # Remove and return the last element of the list\n",
        "print(x, xs)      # Prints \"bar [3, 1, 'foo']\"\n",
        "xs.insert(2, 'baz') # Add something on a specific place\n",
        "print(xs)         # Prints \"[3, 1, 'baz', foo']\"\n",
        "xs.remove('foo')  # Remove a specific element from the list\n",
        "print(xs)         # Prints \"[3, 1, 'baz']\"\n",
        "i = xs.index('baz') # Returns the index of a specific element\n",
        "print(i)          # Prints \"2\"\n",
        "xs.reverse()      # Reverses the content of the list\n",
        "print(xs)         # Prints \"['baz', 1, 3]\""
      ]
    },
    {
      "cell_type": "markdown",
      "metadata": {
        "collapsed": true,
        "id": "bkEOaRBih_cn"
      },
      "source": [
        "#### Slicing\n",
        "In addition to accessing list elements one at a time, Python provides concise syntax to access sublists; this is known as slicing:"
      ]
    },
    {
      "cell_type": "code",
      "execution_count": 13,
      "metadata": {
        "id": "cweFHgp3h_cn",
        "outputId": "33d2934d-ce23-4391-b94b-88a58a653380"
      },
      "outputs": [
        {
          "name": "stdout",
          "output_type": "stream",
          "text": [
            "[0, 1, 2, 3, 4]\n",
            "[2, 3]\n",
            "[2, 3, 4]\n",
            "[0, 1]\n",
            "[0, 1, 2, 3, 4]\n",
            "[0, 1, 2, 3]\n",
            "[0, 1, 8, 9, 4]\n"
          ]
        }
      ],
      "source": [
        "nums = list(range(5))     # range is a built-in function that creates a list of integers\n",
        "print(nums)               # Prints \"[0, 1, 2, 3, 4]\"\n",
        "print(nums[2:4])          # Get a slice from index 2 to 4 (exclusive); prints \"[2, 3]\"\n",
        "print(nums[2:])           # Get a slice from index 2 to the end; prints \"[2, 3, 4]\"\n",
        "print(nums[:2])           # Get a slice from the start to index 2 (exclusive); prints \"[0, 1]\"\n",
        "print(nums[:])            # Get a slice of the whole list; prints \"[0, 1, 2, 3, 4]\"\n",
        "print(nums[:-1])          # Slice indices can be negative; prints \"[0, 1, 2, 3]\"\n",
        "nums[2:4] = [8, 9]        # Assign a new sublist to a slice\n",
        "print(nums)               # Prints \"[0, 1, 8, 9, 4]\""
      ]
    },
    {
      "cell_type": "markdown",
      "metadata": {
        "collapsed": true,
        "id": "Vxdparxeh_cn"
      },
      "source": [
        "#### Loops\n",
        "You can loop over the elements of a list like this:"
      ]
    },
    {
      "cell_type": "code",
      "execution_count": 14,
      "metadata": {
        "id": "UzP_CGH_h_cn",
        "outputId": "eda0f984-7941-4b37-b6e9-60033b7ea5b0"
      },
      "outputs": [
        {
          "name": "stdout",
          "output_type": "stream",
          "text": [
            "cat\n",
            "dog\n",
            "monkey\n"
          ]
        }
      ],
      "source": [
        "animals = ['cat', 'dog', 'monkey']\n",
        "for animal in animals:\n",
        "    print(animal)\n",
        "# Prints \"cat\", \"dog\", \"monkey\", each on its own line."
      ]
    },
    {
      "cell_type": "markdown",
      "metadata": {
        "collapsed": true,
        "id": "e_36fxIjh_co"
      },
      "source": [
        "#### List comprehensions\n",
        "When programming, frequently we want to transform one type of data into another. \n",
        "As a simple example, consider the following code that computes square numbers:"
      ]
    },
    {
      "cell_type": "code",
      "execution_count": 15,
      "metadata": {
        "id": "42vGyVgah_co",
        "outputId": "f0492c77-ea5c-4f3d-fd06-2bd65a96908e"
      },
      "outputs": [
        {
          "name": "stdout",
          "output_type": "stream",
          "text": [
            "[0, 1, 4, 9, 16]\n"
          ]
        }
      ],
      "source": [
        "nums = [0, 1, 2, 3, 4]\n",
        "squares = []\n",
        "for x in nums:\n",
        "    squares.append(x ** 2)\n",
        "print(squares)   # Prints [0, 1, 4, 9, 16]"
      ]
    },
    {
      "cell_type": "markdown",
      "metadata": {
        "id": "O-9S196Oh_co"
      },
      "source": [
        "You can make this code simpler using a list comprehension:"
      ]
    },
    {
      "cell_type": "code",
      "execution_count": 16,
      "metadata": {
        "id": "G1_BegMph_co"
      },
      "outputs": [
        {
          "name": "stdout",
          "output_type": "stream",
          "text": [
            "[0, 1, 4, 9, 16]\n"
          ]
        }
      ],
      "source": [
        "nums = [0, 1, 2, 3, 4]\n",
        "squares = [x ** 2 for x in nums]\n",
        "print(squares)   # Prints [0, 1, 4, 9, 16]"
      ]
    },
    {
      "cell_type": "markdown",
      "metadata": {
        "id": "Zmaj9oY8h_co"
      },
      "source": [
        "List comprehensions can also contain conditions:"
      ]
    },
    {
      "cell_type": "code",
      "execution_count": 17,
      "metadata": {
        "id": "v4DgsmgXh_co",
        "outputId": "d8a3d432-26cb-4aee-f49e-cefa7f373d98"
      },
      "outputs": [
        {
          "name": "stdout",
          "output_type": "stream",
          "text": [
            "[0, 4, 16]\n"
          ]
        }
      ],
      "source": [
        "nums = [0, 1, 2, 3, 4]\n",
        "even_squares = [x ** 2 for x in nums if x % 2 == 0]\n",
        "print(even_squares)  # Prints \"[0, 4, 16]\""
      ]
    },
    {
      "cell_type": "markdown",
      "metadata": {
        "collapsed": true,
        "id": "7P2A-MSBh_co"
      },
      "source": [
        "### Dictionaries\n",
        "A dictionary stores (key, value) pairs, similar to a Map in Java or an object literal in Javascript. \n",
        "You can use it like this:"
      ]
    },
    {
      "cell_type": "code",
      "execution_count": 18,
      "metadata": {
        "id": "4FTQQyJmh_co",
        "outputId": "9b02ab26-024c-4446-c4c3-efb4a21384e9"
      },
      "outputs": [
        {
          "name": "stdout",
          "output_type": "stream",
          "text": [
            "cute\n",
            "True\n",
            "wet\n",
            "N/A\n",
            "wet\n",
            "N/A\n"
          ]
        }
      ],
      "source": [
        "d = {'cat': 'cute', 'dog': 'furry'}  # Create a new dictionary with some data\n",
        "print(d['cat'])       # Get an entry from a dictionary; prints \"cute\"\n",
        "print('cat' in d)     # Check if a dictionary has a given key; prints \"True\"\n",
        "d['fish'] = 'wet'     # Set an entry in a dictionary\n",
        "print(d['fish'])      # Prints \"wet\"\n",
        "# print(d['monkey'])  # KeyError: 'monkey' not a key of d\n",
        "print(d.get('monkey', 'N/A'))  # Get an element with a default; prints \"N/A\"\n",
        "print(d.get('fish', 'N/A'))    # Get an element with a default; prints \"wet\"\n",
        "del d['fish']         # Remove an element from a dictionary\n",
        "print(d.get('fish', 'N/A')) # \"fish\" is no longer a key; prints \"N/A\""
      ]
    },
    {
      "cell_type": "markdown",
      "metadata": {
        "id": "H_MWWsmrh_co"
      },
      "source": [
        "#### Loops\n",
        "You can loop over the elements of a dictionary like this:"
      ]
    },
    {
      "cell_type": "code",
      "execution_count": 19,
      "metadata": {
        "id": "FOueTjA9h_cp",
        "outputId": "b96e3948-0098-4c63-f331-c99ea00ef15e"
      },
      "outputs": [
        {
          "name": "stdout",
          "output_type": "stream",
          "text": [
            "A person has 2 legs\n",
            "A cat has 4 legs\n",
            "A spider has 8 legs\n"
          ]
        }
      ],
      "source": [
        "d = {'person': 2, 'cat': 4, 'spider': 8}\n",
        "for animal in d:\n",
        "    legs = d[animal]\n",
        "    print('A %s has %d legs' % (animal, legs))\n",
        "# Prints \"A person has 2 legs\", \"A cat has 4 legs\", \"A spider has 8 legs\""
      ]
    },
    {
      "cell_type": "markdown",
      "metadata": {
        "id": "wgJKQy7ih_cp"
      },
      "source": [
        "#### Dictionary comprehensions\n",
        "These are similar to list comprehensions, \n",
        "but allow you to easily construct dictionaries. For example:"
      ]
    },
    {
      "cell_type": "code",
      "execution_count": 20,
      "metadata": {
        "id": "Urx6_IcSh_cp",
        "outputId": "6d0193d3-a439-469a-996c-ba2992ad06a4"
      },
      "outputs": [
        {
          "name": "stdout",
          "output_type": "stream",
          "text": [
            "{0: 0, 2: 4, 4: 16}\n"
          ]
        }
      ],
      "source": [
        "nums = [0, 1, 2, 3, 4]\n",
        "even_num_to_square = {x: x ** 2 for x in nums if x % 2 == 0}\n",
        "print(even_num_to_square)  # Prints \"{0: 0, 2: 4, 4: 16}\""
      ]
    },
    {
      "cell_type": "markdown",
      "metadata": {
        "collapsed": true,
        "id": "0A0MI9twh_cp"
      },
      "source": [
        "### Sets\n",
        "A set is an unordered collection of distinct elements. As a simple example, consider the following:"
      ]
    },
    {
      "cell_type": "code",
      "execution_count": 21,
      "metadata": {
        "id": "hh40qrVmh_cp",
        "outputId": "49dfb6f6-8e96-4d3e-bed6-378a16c135ba"
      },
      "outputs": [
        {
          "name": "stdout",
          "output_type": "stream",
          "text": [
            "True\n",
            "False\n",
            "True\n",
            "3\n",
            "3\n",
            "2\n"
          ]
        }
      ],
      "source": [
        "animals = {'cat', 'dog'}\n",
        "print('cat' in animals)   # Check if an element is in a set; prints \"True\"\n",
        "print('fish' in animals)  # prints \"False\"\n",
        "animals.add('fish')       # Add an element to a set\n",
        "print('fish' in animals)  # Prints \"True\"\n",
        "print(len(animals))       # Number of elements in a set; prints \"3\"\n",
        "animals.add('cat')        # Adding an element that is already in the set does nothing\n",
        "print(len(animals))       # Prints \"3\"\n",
        "animals.remove('cat')     # Remove an element from a set\n",
        "print(len(animals))       # Prints \"2\""
      ]
    },
    {
      "cell_type": "markdown",
      "metadata": {
        "id": "MSryVgwyh_cp"
      },
      "source": [
        "#### Loops\n",
        "Iterating over a set has the same syntax as iterating over a list; \n",
        "however since sets are unordered, you cannot make assumptions about the order in which you visit the elements of the set:"
      ]
    },
    {
      "cell_type": "code",
      "execution_count": 22,
      "metadata": {
        "id": "1TRlYp8kh_cp",
        "outputId": "e28b5269-a51a-46c3-cc26-e43b07eef112"
      },
      "outputs": [
        {
          "name": "stdout",
          "output_type": "stream",
          "text": [
            "#1: cat\n",
            "#2: fish\n",
            "#3: dog\n"
          ]
        }
      ],
      "source": [
        "animals = {'cat', 'dog', 'fish'}\n",
        "for idx, animal in enumerate(animals):\n",
        "    print('#%d: %s' % (idx + 1, animal))\n",
        "# Prints \"#1: fish\", \"#2: dog\", \"#3: cat\""
      ]
    },
    {
      "cell_type": "markdown",
      "metadata": {
        "id": "6ssCWlM8h_cp"
      },
      "source": [
        "#### Set comprehensions\n",
        "Like lists and dictionaries, we can easily construct sets using set comprehensions:"
      ]
    },
    {
      "cell_type": "code",
      "execution_count": 23,
      "metadata": {
        "id": "64L6lRRHh_cp",
        "outputId": "652cc998-a517-4950-b2de-b0eaebd5d000"
      },
      "outputs": [
        {
          "name": "stdout",
          "output_type": "stream",
          "text": [
            "{0, 1, 2, 3, 4, 5}\n"
          ]
        }
      ],
      "source": [
        "from math import sqrt\n",
        "\n",
        "nums = {int(sqrt(x)) for x in range(30)}\n",
        "print(nums)  # Prints \"{0, 1, 2, 3, 4, 5}\""
      ]
    },
    {
      "cell_type": "markdown",
      "metadata": {
        "id": "9HLlGssKh_cp"
      },
      "source": [
        "### Tuples\n",
        "A tuple is an (immutable) ordered list of values. \n",
        "A tuple is in many ways similar to a list; one of the most important differences \n",
        "is that tuples can be used as keys in dictionaries and as elements of sets, while lists cannot. \n",
        "Here is a trivial example:"
      ]
    },
    {
      "cell_type": "code",
      "execution_count": 24,
      "metadata": {
        "id": "JEJyZKeih_cp",
        "outputId": "7e3dd233-8898-4d5b-e13c-9fbf4658e15f"
      },
      "outputs": [
        {
          "name": "stdout",
          "output_type": "stream",
          "text": [
            "{(0, 1): 0, (1, 2): 1, (2, 3): 2, (3, 4): 3, (4, 5): 4, (5, 6): 5, (6, 7): 6, (7, 8): 7, (8, 9): 8, (9, 10): 9}\n",
            "<class 'tuple'>\n",
            "5\n",
            "1\n"
          ]
        }
      ],
      "source": [
        "d = {(x, x + 1): x for x in range(10)}  # Create a dictionary with tuple keys\n",
        "print(d)\n",
        "t = (5, 6)        # Create a tuple\n",
        "print(type(t))    # Prints \"<class 'tuple'>\"\n",
        "print(d[t])       # Prints \"5\"\n",
        "print(d[(1, 2)])  # Prints \"1\""
      ]
    },
    {
      "cell_type": "markdown",
      "metadata": {
        "id": "b_vRsbhGh_cq"
      },
      "source": [
        "### Functions"
      ]
    },
    {
      "cell_type": "markdown",
      "metadata": {
        "id": "d6Y4Yukgh_cq"
      },
      "source": [
        "Python functions are defined using the def keyword. For example:"
      ]
    },
    {
      "cell_type": "code",
      "execution_count": 25,
      "metadata": {
        "id": "VzG0b6iWh_cq",
        "outputId": "db7d7c7c-3487-4e1c-c6e7-83bc85067777"
      },
      "outputs": [
        {
          "name": "stdout",
          "output_type": "stream",
          "text": [
            "negative\n",
            "zero\n",
            "positive\n"
          ]
        }
      ],
      "source": [
        "def sign(x):\n",
        "    if x > 0:\n",
        "        return 'positive'\n",
        "    elif x < 0:\n",
        "        return 'negative'\n",
        "    else:\n",
        "        return 'zero'\n",
        "\n",
        "for x in [-1, 0, 1]:\n",
        "    print(sign(x))\n",
        "# Prints \"negative\", \"zero\", \"positive\""
      ]
    },
    {
      "cell_type": "markdown",
      "metadata": {
        "id": "MsW_XW-Ph_cq"
      },
      "source": [
        "We will often define functions to take optional keyword arguments, like this:"
      ]
    },
    {
      "cell_type": "code",
      "execution_count": 26,
      "metadata": {
        "id": "LWtxa4Ish_cq",
        "outputId": "a5c4ecad-3ac9-4728-c991-45d44fa0d2f5"
      },
      "outputs": [
        {
          "name": "stdout",
          "output_type": "stream",
          "text": [
            "Hello, Bob\n",
            "HELLO, FRED!\n"
          ]
        }
      ],
      "source": [
        "def hello(name, loud=False):\n",
        "    if loud:\n",
        "        print('HELLO, %s!' % name.upper())\n",
        "    else:\n",
        "        print('Hello, %s' % name)\n",
        "\n",
        "hello('Bob') # Prints \"Hello, Bob\"\n",
        "hello('Fred', loud=True)  # Prints \"HELLO, FRED!\""
      ]
    },
    {
      "cell_type": "markdown",
      "metadata": {
        "id": "UUegpKIVh_cq"
      },
      "source": [
        "### Classes\n",
        "\n",
        "The syntax for defining classes in Python is straightforward:"
      ]
    },
    {
      "cell_type": "code",
      "execution_count": 27,
      "metadata": {
        "id": "QxbB0zv2h_cq",
        "outputId": "c59c62c1-e8c5-494b-e775-674a8a9794b9"
      },
      "outputs": [
        {
          "name": "stdout",
          "output_type": "stream",
          "text": [
            "Fido\n",
            "['roll over', 'play dead']\n",
            "woof woof\n",
            "2\n"
          ]
        }
      ],
      "source": [
        "class Dog:\n",
        "    dogCount = 0;\n",
        "    def __init__(self, name):\n",
        "        self.name = name\n",
        "        self.tricks = [] # Creates an empty list of tricks for each dog\n",
        "        Dog.dogCount += 1 # Increments the total number of dogs   \n",
        "    \n",
        "    def add_trick(self, trick):\n",
        "        self.tricks.append(trick)\n",
        "        \n",
        "    def bark(self):\n",
        "        return \"woof woof\"\n",
        "\n",
        "d = Dog('Fido')\n",
        "e = Dog('Nero')\n",
        "d.add_trick('roll over')\n",
        "d.add_trick('play dead')\n",
        "print(d.name) # Prints \"Fido\"\n",
        "print(d.tricks) # Prints ['roll over', 'play dead']\n",
        "print(d.bark()) # Prints \"woof woof\"\n",
        "print(Dog.dogCount) #Prints \"2\""
      ]
    }
  ],
  "metadata": {
    "colab": {
      "name": "Python_Introduction.ipynb",
      "provenance": []
    },
    "kernelspec": {
      "display_name": "Python 3",
      "language": "python",
      "name": "python3"
    },
    "language_info": {
      "codemirror_mode": {
        "name": "ipython",
        "version": 3
      },
      "file_extension": ".py",
      "mimetype": "text/x-python",
      "name": "python",
      "nbconvert_exporter": "python",
      "pygments_lexer": "ipython3",
      "version": "3.10.10"
    }
  },
  "nbformat": 4,
  "nbformat_minor": 0
}
