{
  "cells": [
    {
      "cell_type": "markdown",
      "metadata": {},
      "source": [
        "<table align=\"left\">\n",
        "  <td>\n",
        "    <a href=\"https://colab.research.google.com/github/jdecorte/ai_ml/blob/main/solutions/031-exercise_heart_disease_solution.ipynb\" target=\"_parent\"><img src=\"https://colab.research.google.com/assets/colab-badge.svg\" alt=\"Open In Colab\"/></a>\n",
        "  </td>\n",
        "</table>"
      ]
    },
    {
      "cell_type": "code",
      "execution_count": 25,
      "metadata": {
        "id": "WHXD6_Qx-qjk"
      },
      "outputs": [],
      "source": [
        "# Importing the necessary packages\n",
        "import numpy as np                                  # \"Scientific computing\"\n",
        "\n",
        "import pandas as pd                                 # Data Frame\n",
        "\n",
        "import matplotlib.pyplot as plt                     # Basic visualisation\n",
        "import seaborn as sns                               # Advanced data visualisation"
      ]
    },
    {
      "cell_type": "markdown",
      "metadata": {
        "id": "Q93bC5iAu-cN"
      },
      "source": [
        "This data set dates from 1988 and consists of four databases: Cleveland, Hungary, Switzerland, and Long Beach V. It contains 76 attributes, including the predicted attribute, but all published experiments refer to using a subset of 14 of them. The \"target\" field refers to the presence of heart disease in the patient. It is integer valued 0 = no disease and 1 = disease.\n",
        "\n",
        "*   age: age in year\n",
        "*   sex: 1 = male + O = female\n",
        "*   cp: chest pain type\n",
        "*   trestbps: resting blood pressure (in mm Hg on admission to the hospital)\n",
        "*   chol: serum cholestoral in mg/dl\n",
        "*   fbs: fasting blood sugar > 120 mg/dl (1 = true; 0 = false)\n",
        "*   restecg: resting electrocardiographic results\n",
        "*   thalach: maximum heart rate achieved\n",
        "*   exang: exercise induced angina (1 = yes; 0 = no)\n",
        "*   oldpeak:  ST depression induced by exercise relative to rest\n",
        "*   slope: the slope of the peak exercise ST segment\n",
        "*   ca: number of major vessels (0-3) colored by flourosopy\n",
        "*   thal: 1 = normal; 2 = fixed defect; 3 = reversable defect\n",
        "*   target: 0 = no disease + 1 = disease\n",
        "\n",
        "The names and social security numbers of the patients were recently removed from the database, replaced with dummy values."
      ]
    },
    {
      "cell_type": "code",
      "execution_count": 26,
      "metadata": {
        "colab": {
          "base_uri": "https://localhost:8080/",
          "height": 206
        },
        "id": "x50844Sf-1Je",
        "outputId": "ab6a8a98-b965-4297-ea51-df66c894d8a9"
      },
      "outputs": [
        {
          "data": {
            "text/html": [
              "<div>\n",
              "<style scoped>\n",
              "    .dataframe tbody tr th:only-of-type {\n",
              "        vertical-align: middle;\n",
              "    }\n",
              "\n",
              "    .dataframe tbody tr th {\n",
              "        vertical-align: top;\n",
              "    }\n",
              "\n",
              "    .dataframe thead th {\n",
              "        text-align: right;\n",
              "    }\n",
              "</style>\n",
              "<table border=\"1\" class=\"dataframe\">\n",
              "  <thead>\n",
              "    <tr style=\"text-align: right;\">\n",
              "      <th></th>\n",
              "      <th>age</th>\n",
              "      <th>sex</th>\n",
              "      <th>cp</th>\n",
              "      <th>trestbps</th>\n",
              "      <th>chol</th>\n",
              "      <th>fbs</th>\n",
              "      <th>restecg</th>\n",
              "      <th>thalach</th>\n",
              "      <th>exang</th>\n",
              "      <th>oldpeak</th>\n",
              "      <th>slope</th>\n",
              "      <th>ca</th>\n",
              "      <th>thal</th>\n",
              "      <th>target</th>\n",
              "    </tr>\n",
              "  </thead>\n",
              "  <tbody>\n",
              "    <tr>\n",
              "      <th>0</th>\n",
              "      <td>52</td>\n",
              "      <td>1</td>\n",
              "      <td>0</td>\n",
              "      <td>125</td>\n",
              "      <td>212</td>\n",
              "      <td>0</td>\n",
              "      <td>1</td>\n",
              "      <td>168</td>\n",
              "      <td>0</td>\n",
              "      <td>1.0</td>\n",
              "      <td>2</td>\n",
              "      <td>2</td>\n",
              "      <td>3</td>\n",
              "      <td>0</td>\n",
              "    </tr>\n",
              "    <tr>\n",
              "      <th>1</th>\n",
              "      <td>53</td>\n",
              "      <td>1</td>\n",
              "      <td>0</td>\n",
              "      <td>140</td>\n",
              "      <td>203</td>\n",
              "      <td>1</td>\n",
              "      <td>0</td>\n",
              "      <td>155</td>\n",
              "      <td>1</td>\n",
              "      <td>3.1</td>\n",
              "      <td>0</td>\n",
              "      <td>0</td>\n",
              "      <td>3</td>\n",
              "      <td>0</td>\n",
              "    </tr>\n",
              "    <tr>\n",
              "      <th>2</th>\n",
              "      <td>70</td>\n",
              "      <td>1</td>\n",
              "      <td>0</td>\n",
              "      <td>145</td>\n",
              "      <td>174</td>\n",
              "      <td>0</td>\n",
              "      <td>1</td>\n",
              "      <td>125</td>\n",
              "      <td>1</td>\n",
              "      <td>2.6</td>\n",
              "      <td>0</td>\n",
              "      <td>0</td>\n",
              "      <td>3</td>\n",
              "      <td>0</td>\n",
              "    </tr>\n",
              "    <tr>\n",
              "      <th>3</th>\n",
              "      <td>61</td>\n",
              "      <td>1</td>\n",
              "      <td>0</td>\n",
              "      <td>148</td>\n",
              "      <td>203</td>\n",
              "      <td>0</td>\n",
              "      <td>1</td>\n",
              "      <td>161</td>\n",
              "      <td>0</td>\n",
              "      <td>0.0</td>\n",
              "      <td>2</td>\n",
              "      <td>1</td>\n",
              "      <td>3</td>\n",
              "      <td>0</td>\n",
              "    </tr>\n",
              "    <tr>\n",
              "      <th>4</th>\n",
              "      <td>62</td>\n",
              "      <td>0</td>\n",
              "      <td>0</td>\n",
              "      <td>138</td>\n",
              "      <td>294</td>\n",
              "      <td>1</td>\n",
              "      <td>1</td>\n",
              "      <td>106</td>\n",
              "      <td>0</td>\n",
              "      <td>1.9</td>\n",
              "      <td>1</td>\n",
              "      <td>3</td>\n",
              "      <td>2</td>\n",
              "      <td>0</td>\n",
              "    </tr>\n",
              "  </tbody>\n",
              "</table>\n",
              "</div>"
            ],
            "text/plain": [
              "   age  sex  cp  trestbps  chol  fbs  restecg  thalach  exang  oldpeak  slope  \\\n",
              "0   52    1   0       125   212    0        1      168      0      1.0      2   \n",
              "1   53    1   0       140   203    1        0      155      1      3.1      0   \n",
              "2   70    1   0       145   174    0        1      125      1      2.6      0   \n",
              "3   61    1   0       148   203    0        1      161      0      0.0      2   \n",
              "4   62    0   0       138   294    1        1      106      0      1.9      1   \n",
              "\n",
              "   ca  thal  target  \n",
              "0   2     3       0  \n",
              "1   0     3       0  \n",
              "2   0     3       0  \n",
              "3   1     3       0  \n",
              "4   3     2       0  "
            ]
          },
          "execution_count": 26,
          "metadata": {},
          "output_type": "execute_result"
        }
      ],
      "source": [
        "df = pd.read_csv('https://raw.githubusercontent.com/jdecorte/ai_ml/main/datasets/heart.csv')\n",
        "df.head()"
      ]
    },
    {
      "cell_type": "markdown",
      "metadata": {
        "id": "J4EGAD8RvhnF"
      },
      "source": [
        "Get general info about the dataset. Are there any values missing?"
      ]
    },
    {
      "cell_type": "code",
      "execution_count": 28,
      "metadata": {
        "colab": {
          "base_uri": "https://localhost:8080/"
        },
        "id": "CihUtAjnvo8Q",
        "outputId": "75cd3faa-e8fd-4e4f-dc53-cd131aa86cb0"
      },
      "outputs": [
        {
          "name": "stdout",
          "output_type": "stream",
          "text": [
            "<class 'pandas.core.frame.DataFrame'>\n",
            "RangeIndex: 1025 entries, 0 to 1024\n",
            "Data columns (total 14 columns):\n",
            " #   Column    Non-Null Count  Dtype  \n",
            "---  ------    --------------  -----  \n",
            " 0   age       1025 non-null   int64  \n",
            " 1   sex       1025 non-null   int64  \n",
            " 2   cp        1025 non-null   int64  \n",
            " 3   trestbps  1025 non-null   int64  \n",
            " 4   chol      1025 non-null   int64  \n",
            " 5   fbs       1025 non-null   int64  \n",
            " 6   restecg   1025 non-null   int64  \n",
            " 7   thalach   1025 non-null   int64  \n",
            " 8   exang     1025 non-null   int64  \n",
            " 9   oldpeak   1025 non-null   float64\n",
            " 10  slope     1025 non-null   int64  \n",
            " 11  ca        1025 non-null   int64  \n",
            " 12  thal      1025 non-null   int64  \n",
            " 13  target    1025 non-null   int64  \n",
            "dtypes: float64(1), int64(13)\n",
            "memory usage: 112.2 KB\n"
          ]
        }
      ],
      "source": [
        "df.info()"
      ]
    },
    {
      "cell_type": "markdown",
      "metadata": {
        "id": "Fm9S-R4ovxes"
      },
      "source": [
        "There are 2 values for target (0 and 1), so this is a binary classification.   \n",
        "Before we can start the classification, we have to know if this is a skewed dataset."
      ]
    },
    {
      "cell_type": "code",
      "execution_count": 29,
      "metadata": {
        "colab": {
          "base_uri": "https://localhost:8080/"
        },
        "id": "Ob086AYOpDnO",
        "outputId": "594bb131-36c8-4013-b7bc-9155397fb9b8"
      },
      "outputs": [
        {
          "data": {
            "text/plain": [
              "1    526\n",
              "0    499\n",
              "Name: target, dtype: int64"
            ]
          },
          "execution_count": 29,
          "metadata": {},
          "output_type": "execute_result"
        }
      ],
      "source": [
        "df['target'].value_counts()"
      ]
    },
    {
      "cell_type": "markdown",
      "metadata": {
        "id": "WG2-8vD7wUcb"
      },
      "source": [
        "What is X and what is y?"
      ]
    },
    {
      "cell_type": "code",
      "execution_count": 30,
      "metadata": {
        "id": "zE_Y_m0ZkS2u"
      },
      "outputs": [],
      "source": [
        "X_pre_transform = df.drop(\"target\", axis = 1)\n",
        "y = df['target']    "
      ]
    },
    {
      "cell_type": "markdown",
      "metadata": {
        "id": "C5tzM4sXwZYM"
      },
      "source": [
        "Use min-max scaling on X.  "
      ]
    },
    {
      "cell_type": "code",
      "execution_count": 31,
      "metadata": {
        "id": "FnDjwcm7mNFK"
      },
      "outputs": [],
      "source": [
        "from sklearn.preprocessing import MinMaxScaler\n",
        "\n",
        "min_max_scaler = MinMaxScaler()\n",
        "X_tr = min_max_scaler.fit_transform(X_pre_transform)"
      ]
    },
    {
      "cell_type": "markdown",
      "metadata": {
        "id": "sWbylCDzyT5d"
      },
      "source": [
        "Put the transformed data back into a dataframe.  \n",
        "Take a look at the data in the dataframe."
      ]
    },
    {
      "cell_type": "code",
      "execution_count": 32,
      "metadata": {
        "colab": {
          "base_uri": "https://localhost:8080/",
          "height": 206
        },
        "id": "GleH2lZ0m0d2",
        "outputId": "cfed3de0-a5cc-43af-ebab-b96caa4d6e14"
      },
      "outputs": [
        {
          "data": {
            "text/html": [
              "<div>\n",
              "<style scoped>\n",
              "    .dataframe tbody tr th:only-of-type {\n",
              "        vertical-align: middle;\n",
              "    }\n",
              "\n",
              "    .dataframe tbody tr th {\n",
              "        vertical-align: top;\n",
              "    }\n",
              "\n",
              "    .dataframe thead th {\n",
              "        text-align: right;\n",
              "    }\n",
              "</style>\n",
              "<table border=\"1\" class=\"dataframe\">\n",
              "  <thead>\n",
              "    <tr style=\"text-align: right;\">\n",
              "      <th></th>\n",
              "      <th>age</th>\n",
              "      <th>sex</th>\n",
              "      <th>cp</th>\n",
              "      <th>trestbps</th>\n",
              "      <th>chol</th>\n",
              "      <th>fbs</th>\n",
              "      <th>restecg</th>\n",
              "      <th>thalach</th>\n",
              "      <th>exang</th>\n",
              "      <th>oldpeak</th>\n",
              "      <th>slope</th>\n",
              "      <th>ca</th>\n",
              "      <th>thal</th>\n",
              "    </tr>\n",
              "  </thead>\n",
              "  <tbody>\n",
              "    <tr>\n",
              "      <th>0</th>\n",
              "      <td>0.479167</td>\n",
              "      <td>1.0</td>\n",
              "      <td>0.0</td>\n",
              "      <td>0.292453</td>\n",
              "      <td>0.196347</td>\n",
              "      <td>0.0</td>\n",
              "      <td>0.5</td>\n",
              "      <td>0.740458</td>\n",
              "      <td>0.0</td>\n",
              "      <td>0.161290</td>\n",
              "      <td>1.0</td>\n",
              "      <td>0.50</td>\n",
              "      <td>1.000000</td>\n",
              "    </tr>\n",
              "    <tr>\n",
              "      <th>1</th>\n",
              "      <td>0.500000</td>\n",
              "      <td>1.0</td>\n",
              "      <td>0.0</td>\n",
              "      <td>0.433962</td>\n",
              "      <td>0.175799</td>\n",
              "      <td>1.0</td>\n",
              "      <td>0.0</td>\n",
              "      <td>0.641221</td>\n",
              "      <td>1.0</td>\n",
              "      <td>0.500000</td>\n",
              "      <td>0.0</td>\n",
              "      <td>0.00</td>\n",
              "      <td>1.000000</td>\n",
              "    </tr>\n",
              "    <tr>\n",
              "      <th>2</th>\n",
              "      <td>0.854167</td>\n",
              "      <td>1.0</td>\n",
              "      <td>0.0</td>\n",
              "      <td>0.481132</td>\n",
              "      <td>0.109589</td>\n",
              "      <td>0.0</td>\n",
              "      <td>0.5</td>\n",
              "      <td>0.412214</td>\n",
              "      <td>1.0</td>\n",
              "      <td>0.419355</td>\n",
              "      <td>0.0</td>\n",
              "      <td>0.00</td>\n",
              "      <td>1.000000</td>\n",
              "    </tr>\n",
              "    <tr>\n",
              "      <th>3</th>\n",
              "      <td>0.666667</td>\n",
              "      <td>1.0</td>\n",
              "      <td>0.0</td>\n",
              "      <td>0.509434</td>\n",
              "      <td>0.175799</td>\n",
              "      <td>0.0</td>\n",
              "      <td>0.5</td>\n",
              "      <td>0.687023</td>\n",
              "      <td>0.0</td>\n",
              "      <td>0.000000</td>\n",
              "      <td>1.0</td>\n",
              "      <td>0.25</td>\n",
              "      <td>1.000000</td>\n",
              "    </tr>\n",
              "    <tr>\n",
              "      <th>4</th>\n",
              "      <td>0.687500</td>\n",
              "      <td>0.0</td>\n",
              "      <td>0.0</td>\n",
              "      <td>0.415094</td>\n",
              "      <td>0.383562</td>\n",
              "      <td>1.0</td>\n",
              "      <td>0.5</td>\n",
              "      <td>0.267176</td>\n",
              "      <td>0.0</td>\n",
              "      <td>0.306452</td>\n",
              "      <td>0.5</td>\n",
              "      <td>0.75</td>\n",
              "      <td>0.666667</td>\n",
              "    </tr>\n",
              "  </tbody>\n",
              "</table>\n",
              "</div>"
            ],
            "text/plain": [
              "        age  sex   cp  trestbps      chol  fbs  restecg   thalach  exang  \\\n",
              "0  0.479167  1.0  0.0  0.292453  0.196347  0.0      0.5  0.740458    0.0   \n",
              "1  0.500000  1.0  0.0  0.433962  0.175799  1.0      0.0  0.641221    1.0   \n",
              "2  0.854167  1.0  0.0  0.481132  0.109589  0.0      0.5  0.412214    1.0   \n",
              "3  0.666667  1.0  0.0  0.509434  0.175799  0.0      0.5  0.687023    0.0   \n",
              "4  0.687500  0.0  0.0  0.415094  0.383562  1.0      0.5  0.267176    0.0   \n",
              "\n",
              "    oldpeak  slope    ca      thal  \n",
              "0  0.161290    1.0  0.50  1.000000  \n",
              "1  0.500000    0.0  0.00  1.000000  \n",
              "2  0.419355    0.0  0.00  1.000000  \n",
              "3  0.000000    1.0  0.25  1.000000  \n",
              "4  0.306452    0.5  0.75  0.666667  "
            ]
          },
          "execution_count": 32,
          "metadata": {},
          "output_type": "execute_result"
        }
      ],
      "source": [
        "X_transform = pd.DataFrame(X_tr, columns=X_pre_transform.columns)\n",
        "X_transform.head()"
      ]
    },
    {
      "cell_type": "markdown",
      "metadata": {
        "id": "l9XvR91fylMc"
      },
      "source": [
        "What is X_train, y_train, X_test, y_test?"
      ]
    },
    {
      "cell_type": "code",
      "execution_count": 33,
      "metadata": {
        "id": "_gKWnePRAx_2"
      },
      "outputs": [],
      "source": [
        "from sklearn.model_selection import train_test_split    \n",
        "X_train, X_test, y_train, y_test = train_test_split(X_transform, y, random_state=42)    # default test size = 0.25"
      ]
    },
    {
      "cell_type": "markdown",
      "metadata": {
        "id": "YEzMFgg0yxz1"
      },
      "source": [
        "What is the number of records in X_train en X_test?"
      ]
    },
    {
      "cell_type": "code",
      "execution_count": 34,
      "metadata": {
        "colab": {
          "base_uri": "https://localhost:8080/"
        },
        "id": "K3r1f-Bey39c",
        "outputId": "6d86039b-064e-4ddb-ca37-68b27878946c"
      },
      "outputs": [
        {
          "name": "stdout",
          "output_type": "stream",
          "text": [
            "The number of records in X_train is: 768\n",
            "The number of records in X_test is: 257\n"
          ]
        }
      ],
      "source": [
        "print(f\"The number of records in X_train is: {len(X_train)}\")\n",
        "print(f\"The number of records in X_test is: {len(X_test)}\")"
      ]
    },
    {
      "cell_type": "markdown",
      "metadata": {
        "id": "yx_LVKOazs2Y"
      },
      "source": [
        "Use the SGD classifier to do the classification.  \n",
        "Make sure the results are reproducible."
      ]
    },
    {
      "cell_type": "code",
      "execution_count": 35,
      "metadata": {
        "colab": {
          "base_uri": "https://localhost:8080/"
        },
        "id": "XXeyWLfYE-sY",
        "outputId": "3854ec34-2537-4c0a-f47b-7288475b0b94"
      },
      "outputs": [
        {
          "data": {
            "text/plain": [
              "SGDClassifier(random_state=42)"
            ]
          },
          "execution_count": 35,
          "metadata": {},
          "output_type": "execute_result"
        }
      ],
      "source": [
        "from sklearn.linear_model import SGDClassifier\n",
        "sgd_clf = SGDClassifier(random_state=42)\n",
        "sgd_clf.fit(X_train, y_train)"
      ]
    },
    {
      "cell_type": "code",
      "execution_count": 36,
      "metadata": {},
      "outputs": [],
      "source": [
        "y_predict = sgd_clf.predict(X_test)"
      ]
    },
    {
      "cell_type": "code",
      "execution_count": 37,
      "metadata": {},
      "outputs": [
        {
          "name": "stdout",
          "output_type": "stream",
          "text": [
            "0.7704280155642024\n"
          ]
        }
      ],
      "source": [
        "from sklearn.metrics import accuracy_score\n",
        "print(accuracy_score(y_test,y_predict))"
      ]
    },
    {
      "cell_type": "markdown",
      "metadata": {},
      "source": [
        "Use K-fold cross-validation to determine the accuracy of the model. "
      ]
    },
    {
      "cell_type": "markdown",
      "metadata": {
        "id": "21H_moXH83Tm"
      },
      "source": [
        "Give the confusion matrix."
      ]
    },
    {
      "cell_type": "code",
      "execution_count": 38,
      "metadata": {
        "colab": {
          "base_uri": "https://localhost:8080/"
        },
        "id": "AOfRFtqgMSLg",
        "outputId": "0244faf7-3a36-4e7d-aaf3-f0da9260c988"
      },
      "outputs": [
        {
          "name": "stdout",
          "output_type": "stream",
          "text": [
            "[[289  78]\n",
            " [ 39 362]]\n"
          ]
        }
      ],
      "source": [
        "from sklearn.model_selection import cross_val_predict\n",
        "y_train_pred = cross_val_predict(sgd_clf, X_train, y_train, cv=3)\n",
        "\n",
        "from sklearn.metrics import confusion_matrix\n",
        "conf_mx = confusion_matrix(y_train, y_train_pred)\n",
        "print(conf_mx)"
      ]
    },
    {
      "cell_type": "markdown",
      "metadata": {
        "id": "79Dlo0jShDQ9"
      },
      "source": [
        "Visualize the confusion matrix"
      ]
    },
    {
      "cell_type": "code",
      "execution_count": 39,
      "metadata": {
        "colab": {
          "base_uri": "https://localhost:8080/",
          "height": 296
        },
        "id": "zz1l-13ohBUY",
        "outputId": "5edd559e-b6ee-4a94-bfe3-7bda7078e89f"
      },
      "outputs": [
        {
          "data": {
            "text/plain": [
              "Text(91.68, 0.5, 'Actual class')"
            ]
          },
          "execution_count": 39,
          "metadata": {},
          "output_type": "execute_result"
        },
        {
          "data": {
            "image/png": "[encoded data removed]",
            "text/plain": [
              "<Figure size 432x288 with 1 Axes>"
            ]
          },
          "metadata": {
            "needs_background": "light"
          },
          "output_type": "display_data"
        }
      ],
      "source": [
        "labels = ['0','1']\n",
        "cf = sns.heatmap(conf_mx,square=True, annot=True, fmt='d', cbar=False, xticklabels=labels, yticklabels=labels)\n",
        "cf.set_xlabel('Predicted class')\n",
        "cf.set_ylabel('Actual class')"
      ]
    },
    {
      "cell_type": "markdown",
      "metadata": {
        "id": "riUiBjXt_q9X"
      },
      "source": [
        "Give the number of True Negatives, True Positives, False Positives, False Negatives.  \n",
        "TN = 289   \n",
        "FN = 39    \n",
        "FP = 78   \n",
        "TP = 362"
      ]
    },
    {
      "cell_type": "code",
      "execution_count": 40,
      "metadata": {
        "colab": {
          "base_uri": "https://localhost:8080/"
        },
        "id": "ywQmKVv3_2h-",
        "outputId": "07d3c1fd-a00d-4d6a-874c-94feb4b56f5f"
      },
      "outputs": [
        {
          "name": "stdout",
          "output_type": "stream",
          "text": [
            "TN = 289 \n",
            "FN = 39 \n",
            "FP = 78 \n",
            "TP = 362\n"
          ]
        }
      ],
      "source": [
        "TN = conf_mx[0][0]\n",
        "FN = conf_mx[1][0]\n",
        "FP = conf_mx[0][1]\n",
        "TP = conf_mx[1][1]\n",
        "\n",
        "print(f\"TN = {TN} \\nFN = {FN} \\nFP = {FP} \\nTP = {TP}\")"
      ]
    },
    {
      "cell_type": "markdown",
      "metadata": {
        "id": "_hJLsU4rKiBw"
      },
      "source": [
        "What is worse in this case: False Positives or False Negatives?"
      ]
    },
    {
      "cell_type": "markdown",
      "metadata": {
        "id": "VpWTRbyP-RRn"
      },
      "source": [
        "Calculate the precision and the recall using the above values.  "
      ]
    },
    {
      "cell_type": "code",
      "execution_count": 41,
      "metadata": {
        "colab": {
          "base_uri": "https://localhost:8080/"
        },
        "id": "GdqWj9u9_Kp2",
        "outputId": "ac1d2b87-87e0-4ec9-a3be-cb8c06fe5ef7"
      },
      "outputs": [
        {
          "name": "stdout",
          "output_type": "stream",
          "text": [
            "The precision is: 0.8227272727272728\n",
            "The recall is: 0.9027431421446384\n"
          ]
        }
      ],
      "source": [
        "precision = TP / (TP + FP)\n",
        "recall = TP / (TP + FN)\n",
        "print(f\"The precision is: {precision}\")\n",
        "print(f\"The recall is: {recall}\")"
      ]
    },
    {
      "cell_type": "markdown",
      "metadata": {
        "id": "wAQNVkI1-dsC"
      },
      "source": [
        "Calculate the precision and recall using sklearn  \n",
        "The precision is: 0.8227272727272728  \n",
        "The recall is: 0.9027431421446384"
      ]
    },
    {
      "cell_type": "code",
      "execution_count": 42,
      "metadata": {
        "colab": {
          "base_uri": "https://localhost:8080/"
        },
        "id": "sUzwVvqQ-c6F",
        "outputId": "49617c0a-e468-42ee-d969-f89f0fae0477"
      },
      "outputs": [
        {
          "name": "stdout",
          "output_type": "stream",
          "text": [
            "The precision is: 0.8227272727272728\n",
            "The recall is: 0.9027431421446384\n"
          ]
        }
      ],
      "source": [
        "from sklearn.metrics import precision_score, recall_score\n",
        "print(f\"The precision is: {precision_score(y_train, y_train_pred)}\")\n",
        "print(f\"The recall is: {recall_score(y_train, y_train_pred)}\")"
      ]
    },
    {
      "cell_type": "markdown",
      "metadata": {
        "id": "Nia-7unlSBFR"
      },
      "source": [
        "What is meant with precision and recall in this context?"
      ]
    },
    {
      "cell_type": "markdown",
      "metadata": {
        "id": "H6zhQZpJCTOl"
      },
      "source": [
        "precision: aandeel van al degenen waarvan we zeggen dat ze een hartziekte zullen krijgen, die er ook effectief een hebben.   \n",
        "recall: aandeel van alle mensen met hartziekte die we ook effectief detecteren. "
      ]
    },
    {
      "cell_type": "markdown",
      "metadata": {
        "id": "4Frv-RSLBO6Q"
      },
      "source": [
        "Calculate F1 score using the above values.  \n",
        "F1 is: 0.8608799048751486\n"
      ]
    },
    {
      "cell_type": "code",
      "execution_count": 43,
      "metadata": {
        "colab": {
          "base_uri": "https://localhost:8080/"
        },
        "id": "XJhfNfOWMcez",
        "outputId": "6f10af52-b6cf-48d9-acc8-8b6c68b4d53f"
      },
      "outputs": [
        {
          "name": "stdout",
          "output_type": "stream",
          "text": [
            "F1 is: 0.8608799048751486\n"
          ]
        }
      ],
      "source": [
        "f1 = 2 / (1/precision + 1/recall)\n",
        "print(f\"F1 is: {f1}\")"
      ]
    },
    {
      "cell_type": "markdown",
      "metadata": {
        "id": "oOgdEeh7B15F"
      },
      "source": [
        "Calculate F1 score using the sklearn.  \n",
        "F1 is: 0.8608799048751486"
      ]
    },
    {
      "cell_type": "code",
      "execution_count": 44,
      "metadata": {
        "colab": {
          "base_uri": "https://localhost:8080/"
        },
        "id": "oNQ5TwYXMpBY",
        "outputId": "93032a3b-73a6-4d10-c379-e4cccf35e389"
      },
      "outputs": [
        {
          "name": "stdout",
          "output_type": "stream",
          "text": [
            "F1 is: 0.8608799048751486\n"
          ]
        }
      ],
      "source": [
        "from sklearn.metrics import f1_score\n",
        "print(f\"F1 is: {f1_score(y_train, y_train_pred)}\")"
      ]
    },
    {
      "cell_type": "markdown",
      "metadata": {
        "id": "ZkrCMOGlVDy6"
      },
      "source": [
        "Perhaps it's a good idea to use another classifier?  \n",
        "Use a RandomForestClassifier to make predictions."
      ]
    },
    {
      "cell_type": "code",
      "execution_count": 45,
      "metadata": {
        "id": "504r-UscrgK7"
      },
      "outputs": [],
      "source": [
        "from sklearn.ensemble import RandomForestClassifier\n",
        "forest_clf = RandomForestClassifier(random_state=42)  # default 100 tree (n_estimators=100)"
      ]
    },
    {
      "cell_type": "markdown",
      "metadata": {},
      "source": [
        "Show the confusion matrix"
      ]
    },
    {
      "cell_type": "code",
      "execution_count": 46,
      "metadata": {},
      "outputs": [
        {
          "name": "stdout",
          "output_type": "stream",
          "text": [
            "[[353  14]\n",
            " [ 12 389]]\n"
          ]
        }
      ],
      "source": [
        "from sklearn.model_selection import cross_val_predict\n",
        "y_train_pred = cross_val_predict(forest_clf, X_train, y_train, cv=3)\n",
        "\n",
        "from sklearn.metrics import confusion_matrix\n",
        "conf_mx = confusion_matrix(y_train, y_train_pred)\n",
        "print(conf_mx)"
      ]
    },
    {
      "cell_type": "markdown",
      "metadata": {
        "id": "Zpwxv739V0mx"
      },
      "source": [
        "Calculate precision, recall and F1-score and compare to the SGDClassifier\n"
      ]
    },
    {
      "cell_type": "code",
      "execution_count": 47,
      "metadata": {
        "id": "OEO0b5zrzKtB"
      },
      "outputs": [
        {
          "name": "stdout",
          "output_type": "stream",
          "text": [
            "The precision is: 0.9652605459057072\n",
            "The recall is: 0.970074812967581\n",
            "F1 is: 0.9676616915422885\n"
          ]
        }
      ],
      "source": [
        "print(f\"The precision is: {precision_score(y_train, y_train_pred)}\")\n",
        "print(f\"The recall is: {recall_score(y_train, y_train_pred)}\")\n",
        "print(f\"F1 is: {f1_score(y_train, y_train_pred)}\")\n"
      ]
    },
    {
      "cell_type": "markdown",
      "metadata": {},
      "source": [
        "Calculate the accuracy on the testset"
      ]
    },
    {
      "cell_type": "code",
      "execution_count": 48,
      "metadata": {},
      "outputs": [
        {
          "name": "stdout",
          "output_type": "stream",
          "text": [
            "The accuracy on the test set is: 1.0\n"
          ]
        }
      ],
      "source": [
        "forest_clf.fit(X_train,y_train)\n",
        "y_predict = forest_clf.predict(X_test)\n",
        "from sklearn.metrics import accuracy_score\n",
        "print(f\"The accuracy on the test set is: {accuracy_score(y_test, y_predict)}\")"
      ]
    }
  ],
  "metadata": {
    "colab": {
      "collapsed_sections": [],
      "name": "Classification Exercise 1 Solution.ipynb",
      "provenance": []
    },
    "kernelspec": {
      "display_name": "Python 3",
      "name": "python3"
    },
    "language_info": {
      "codemirror_mode": {
        "name": "ipython",
        "version": 3
      },
      "file_extension": ".py",
      "mimetype": "text/x-python",
      "name": "python",
      "nbconvert_exporter": "python",
      "pygments_lexer": "ipython3",
      "version": "3.9.12"
    }
  },
  "nbformat": 4,
  "nbformat_minor": 0
}
