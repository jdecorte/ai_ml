{
 "cells": [
  {
   "attachments": {},
   "cell_type": "markdown",
   "metadata": {},
   "source": [
    "**Chapter 1.1 – Our first machine learning model**\n",
    "\n",
    "*This introductory case is not in the book*. \n",
    "\n",
    "***Content***\n",
    "1. The problem we want to solve.\n",
    "2. Get the data.\n",
    "3. Discover and visualize the data.\n",
    "4. Select a model and train it.\n",
    "5. Use the model\n",
    "6. Exercise"
   ]
  },
  {
   "attachments": {},
   "cell_type": "markdown",
   "metadata": {},
   "source": [
    "<table align=\"left\">\n",
    "  <td>\n",
    "    <a href=\"https://colab.research.google.com/HOGENT-ML/course/machinelearning/blob/main/130-first_machine_learning_project.ipynb\" target=\"_parent\"><img src=\"https://colab.research.google.com/assets/colab-badge.svg\" alt=\"Open In Colab\"/></a>\n",
    "  </td>\n",
    "</table>"
   ]
  },
  {
   "cell_type": "markdown",
   "metadata": {},
   "source": [
    "# 0. Setup Python"
   ]
  },
  {
   "cell_type": "markdown",
   "metadata": {},
   "source": [
    "First, let's import a few common modules and ensure MatplotLib plots figures inline. We also check that Python 3.5 or later is installed (although Python 2.x may work, it is deprecated so we strongly recommend you use Python 3 instead), as well as Scikit-Learn ≥0.20."
   ]
  },
  {
   "cell_type": "code",
   "execution_count": 2,
   "metadata": {},
   "outputs": [],
   "source": [
    "# Python ≥3.5 is required\n",
    "import sys\n",
    "assert sys.version_info >= (3, 5)\n",
    "\n",
    "# Scikit-Learn ≥0.20 is required\n",
    "import sklearn\n",
    "assert sklearn.__version__ >= \"0.20\"\n",
    "\n",
    "# Common imports\n",
    "import numpy as np\n",
    "import pandas as pd\n",
    "import os\n",
    "\n",
    "# To plot pretty figures\n",
    "import matplotlib as mpl\n",
    "import matplotlib.pyplot as plt\n"
   ]
  },
  {
   "attachments": {},
   "cell_type": "markdown",
   "metadata": {},
   "source": [
    "# 1. The problem we want to solve\n",
    "Predict future temperatures in Brussels in spring based on temperature registrations since 1833."
   ]
  },
  {
   "cell_type": "markdown",
   "metadata": {},
   "source": [
    "Before you continue, ask yourself: \n",
    "- What are the instances? \n",
    "- Which techniques to use? \n",
    "    - reinforcement learning?\n",
    "    - (un)supervised learning? \n",
    "    - classification/regression? \n",
    "    - batch/online learning? \n",
    "\n",
    "\n"
   ]
  },
  {
   "attachments": {},
   "cell_type": "markdown",
   "metadata": {},
   "source": [
    "Answers: \n",
    "- instances = years\n",
    "- techniques\n",
    "    - supervised learning: temperature = label\n",
    "    - regression: predicting a number\n",
    "    - univariate regression: predicting single value per year\n",
    "    - batch learning: no continuous flow of new data"
   ]
  },
  {
   "cell_type": "markdown",
   "metadata": {},
   "source": [
    "# 2. Get the Data"
   ]
  },
  {
   "cell_type": "markdown",
   "metadata": {},
   "source": [
    "## Download the Data"
   ]
  },
  {
   "attachments": {},
   "cell_type": "markdown",
   "metadata": {},
   "source": [
    "Governments and major cities provides lots op open data that can be freely used for analyses:\n",
    "- data.vlaanderen.be: Flemish government\n",
    "- data.gov.be: Belgian government\n",
    "- data.gent.be: city of Gent\n",
    "- ...\n",
    "\n",
    "We find average seasonal temperatures in Ukkel (Brussels) at https://www.vlaanderen.be/DataCatalogRecord/72ff6930-87e4-38c4-9a27-d3ddda385637. \n",
    "\n",
    "The download link for the spring data (as a csv file) is:\n",
    "https://www.vmm.be/klimaat/seizoensgemiddelde-temperatuur/lente-temp/@@download/csv\n",
    "\n",
    "Download the file and place it in a subdirectory \"datasets\" from directory where this notebook resides. \n",
    "\n",
    "Read and explore the dataset in a pandas dataframe:"
   ]
  },
  {
   "cell_type": "code",
   "execution_count": 3,
   "metadata": {},
   "outputs": [
    {
     "data": {
      "text/html": [
       "<div>\n",
       "<style scoped>\n",
       "    .dataframe tbody tr th:only-of-type {\n",
       "        vertical-align: middle;\n",
       "    }\n",
       "\n",
       "    .dataframe tbody tr th {\n",
       "        vertical-align: top;\n",
       "    }\n",
       "\n",
       "    .dataframe thead th {\n",
       "        text-align: right;\n",
       "    }\n",
       "</style>\n",
       "<table border=\"1\" class=\"dataframe\">\n",
       "  <thead>\n",
       "    <tr style=\"text-align: right;\">\n",
       "      <th></th>\n",
       "      <th>jaar</th>\n",
       "      <th>95 %-betrouwbaarheidsinterval van punten op de trendlijn</th>\n",
       "      <th>gemiddelde van de gemeten waarden</th>\n",
       "      <th>trendlijn</th>\n",
       "    </tr>\n",
       "  </thead>\n",
       "  <tbody>\n",
       "    <tr>\n",
       "      <th>0</th>\n",
       "      <td>1833</td>\n",
       "      <td>(8.413, 7.197)</td>\n",
       "      <td>8.3</td>\n",
       "      <td>7.805</td>\n",
       "    </tr>\n",
       "    <tr>\n",
       "      <th>1</th>\n",
       "      <td>1834</td>\n",
       "      <td>(8.383, 7.239)</td>\n",
       "      <td>9.0</td>\n",
       "      <td>7.811</td>\n",
       "    </tr>\n",
       "    <tr>\n",
       "      <th>2</th>\n",
       "      <td>1835</td>\n",
       "      <td>(8.356, 7.278)</td>\n",
       "      <td>7.7</td>\n",
       "      <td>7.817</td>\n",
       "    </tr>\n",
       "    <tr>\n",
       "      <th>3</th>\n",
       "      <td>1836</td>\n",
       "      <td>(8.333, 7.313)</td>\n",
       "      <td>8.2</td>\n",
       "      <td>7.823</td>\n",
       "    </tr>\n",
       "    <tr>\n",
       "      <th>4</th>\n",
       "      <td>1837</td>\n",
       "      <td>(8.311, 7.347)</td>\n",
       "      <td>4.9</td>\n",
       "      <td>7.829</td>\n",
       "    </tr>\n",
       "    <tr>\n",
       "      <th>5</th>\n",
       "      <td>1838</td>\n",
       "      <td>(8.292, 7.378)</td>\n",
       "      <td>7.5</td>\n",
       "      <td>7.835</td>\n",
       "    </tr>\n",
       "    <tr>\n",
       "      <th>6</th>\n",
       "      <td>1839</td>\n",
       "      <td>(8.277, 7.407)</td>\n",
       "      <td>6.6</td>\n",
       "      <td>7.842</td>\n",
       "    </tr>\n",
       "    <tr>\n",
       "      <th>7</th>\n",
       "      <td>1840</td>\n",
       "      <td>(8.265, 7.433)</td>\n",
       "      <td>7.7</td>\n",
       "      <td>7.849</td>\n",
       "    </tr>\n",
       "    <tr>\n",
       "      <th>8</th>\n",
       "      <td>1841</td>\n",
       "      <td>(8.254, 7.458)</td>\n",
       "      <td>10.5</td>\n",
       "      <td>7.856</td>\n",
       "    </tr>\n",
       "    <tr>\n",
       "      <th>9</th>\n",
       "      <td>1842</td>\n",
       "      <td>(8.245, 7.481)</td>\n",
       "      <td>8.3</td>\n",
       "      <td>7.863</td>\n",
       "    </tr>\n",
       "  </tbody>\n",
       "</table>\n",
       "</div>"
      ],
      "text/plain": [
       "   jaar 95 %-betrouwbaarheidsinterval van punten op de trendlijn  \\\n",
       "0  1833                                     (8.413, 7.197)         \n",
       "1  1834                                     (8.383, 7.239)         \n",
       "2  1835                                     (8.356, 7.278)         \n",
       "3  1836                                     (8.333, 7.313)         \n",
       "4  1837                                     (8.311, 7.347)         \n",
       "5  1838                                     (8.292, 7.378)         \n",
       "6  1839                                     (8.277, 7.407)         \n",
       "7  1840                                     (8.265, 7.433)         \n",
       "8  1841                                     (8.254, 7.458)         \n",
       "9  1842                                     (8.245, 7.481)         \n",
       "\n",
       "   gemiddelde van de gemeten waarden  trendlijn  \n",
       "0                                8.3      7.805  \n",
       "1                                9.0      7.811  \n",
       "2                                7.7      7.817  \n",
       "3                                8.2      7.823  \n",
       "4                                4.9      7.829  \n",
       "5                                7.5      7.835  \n",
       "6                                6.6      7.842  \n",
       "7                                7.7      7.849  \n",
       "8                               10.5      7.856  \n",
       "9                                8.3      7.863  "
      ]
     },
     "execution_count": 3,
     "metadata": {},
     "output_type": "execute_result"
    }
   ],
   "source": [
    "csv_path = 'datasets/lente temp.csv'\n",
    "temperatures = pd.read_csv(csv_path)\n",
    "temperatures.head(10)\n"
   ]
  },
  {
   "cell_type": "code",
   "execution_count": 4,
   "metadata": {},
   "outputs": [
    {
     "data": {
      "text/html": [
       "<div>\n",
       "<style scoped>\n",
       "    .dataframe tbody tr th:only-of-type {\n",
       "        vertical-align: middle;\n",
       "    }\n",
       "\n",
       "    .dataframe tbody tr th {\n",
       "        vertical-align: top;\n",
       "    }\n",
       "\n",
       "    .dataframe thead th {\n",
       "        text-align: right;\n",
       "    }\n",
       "</style>\n",
       "<table border=\"1\" class=\"dataframe\">\n",
       "  <thead>\n",
       "    <tr style=\"text-align: right;\">\n",
       "      <th></th>\n",
       "      <th>jaar</th>\n",
       "      <th>95 %-betrouwbaarheidsinterval van punten op de trendlijn</th>\n",
       "      <th>gemiddelde van de gemeten waarden</th>\n",
       "      <th>trendlijn</th>\n",
       "    </tr>\n",
       "  </thead>\n",
       "  <tbody>\n",
       "    <tr>\n",
       "      <th>181</th>\n",
       "      <td>2014</td>\n",
       "      <td>(10.922, 10.158)</td>\n",
       "      <td>11.7</td>\n",
       "      <td>10.540</td>\n",
       "    </tr>\n",
       "    <tr>\n",
       "      <th>182</th>\n",
       "      <td>2015</td>\n",
       "      <td>(10.962, 10.166)</td>\n",
       "      <td>10.0</td>\n",
       "      <td>10.564</td>\n",
       "    </tr>\n",
       "    <tr>\n",
       "      <th>183</th>\n",
       "      <td>2016</td>\n",
       "      <td>(11.004, 10.172)</td>\n",
       "      <td>9.3</td>\n",
       "      <td>10.588</td>\n",
       "    </tr>\n",
       "    <tr>\n",
       "      <th>184</th>\n",
       "      <td>2017</td>\n",
       "      <td>(11.047, 10.177)</td>\n",
       "      <td>11.3</td>\n",
       "      <td>10.612</td>\n",
       "    </tr>\n",
       "    <tr>\n",
       "      <th>185</th>\n",
       "      <td>2018</td>\n",
       "      <td>(11.092, 10.178)</td>\n",
       "      <td>11.6</td>\n",
       "      <td>10.635</td>\n",
       "    </tr>\n",
       "    <tr>\n",
       "      <th>186</th>\n",
       "      <td>2019</td>\n",
       "      <td>(11.14, 10.176)</td>\n",
       "      <td>10.5</td>\n",
       "      <td>10.658</td>\n",
       "    </tr>\n",
       "    <tr>\n",
       "      <th>187</th>\n",
       "      <td>2020</td>\n",
       "      <td>(11.191, 10.171)</td>\n",
       "      <td>11.3</td>\n",
       "      <td>10.681</td>\n",
       "    </tr>\n",
       "    <tr>\n",
       "      <th>188</th>\n",
       "      <td>2021</td>\n",
       "      <td>(11.245, 10.163)</td>\n",
       "      <td>8.8</td>\n",
       "      <td>10.704</td>\n",
       "    </tr>\n",
       "    <tr>\n",
       "      <th>189</th>\n",
       "      <td>2022</td>\n",
       "      <td>(11.299, 10.155)</td>\n",
       "      <td>11.3</td>\n",
       "      <td>10.727</td>\n",
       "    </tr>\n",
       "    <tr>\n",
       "      <th>190</th>\n",
       "      <td>2023</td>\n",
       "      <td>(11.358, 10.142)</td>\n",
       "      <td>10.2</td>\n",
       "      <td>10.750</td>\n",
       "    </tr>\n",
       "  </tbody>\n",
       "</table>\n",
       "</div>"
      ],
      "text/plain": [
       "     jaar 95 %-betrouwbaarheidsinterval van punten op de trendlijn  \\\n",
       "181  2014                                   (10.922, 10.158)         \n",
       "182  2015                                   (10.962, 10.166)         \n",
       "183  2016                                   (11.004, 10.172)         \n",
       "184  2017                                   (11.047, 10.177)         \n",
       "185  2018                                   (11.092, 10.178)         \n",
       "186  2019                                    (11.14, 10.176)         \n",
       "187  2020                                   (11.191, 10.171)         \n",
       "188  2021                                   (11.245, 10.163)         \n",
       "189  2022                                   (11.299, 10.155)         \n",
       "190  2023                                   (11.358, 10.142)         \n",
       "\n",
       "     gemiddelde van de gemeten waarden  trendlijn  \n",
       "181                               11.7     10.540  \n",
       "182                               10.0     10.564  \n",
       "183                                9.3     10.588  \n",
       "184                               11.3     10.612  \n",
       "185                               11.6     10.635  \n",
       "186                               10.5     10.658  \n",
       "187                               11.3     10.681  \n",
       "188                                8.8     10.704  \n",
       "189                               11.3     10.727  \n",
       "190                               10.2     10.750  "
      ]
     },
     "execution_count": 4,
     "metadata": {},
     "output_type": "execute_result"
    }
   ],
   "source": [
    "temperatures.tail(10)"
   ]
  },
  {
   "attachments": {},
   "cell_type": "markdown",
   "metadata": {},
   "source": [
    "We need only the column \"jaar\" and \"gemiddelde van de gemeten waarden\". "
   ]
  },
  {
   "cell_type": "code",
   "execution_count": 5,
   "metadata": {},
   "outputs": [],
   "source": [
    "temperatures = temperatures[['jaar','gemiddelde van de gemeten waarden']]"
   ]
  },
  {
   "attachments": {},
   "cell_type": "markdown",
   "metadata": {},
   "source": [
    "We rename the columns for easier use."
   ]
  },
  {
   "cell_type": "code",
   "execution_count": 6,
   "metadata": {},
   "outputs": [],
   "source": [
    "temperatures = temperatures.rename(columns={\"jaar\": \"year\", \"gemiddelde van de gemeten waarden\": \"temp\"})"
   ]
  },
  {
   "cell_type": "markdown",
   "metadata": {},
   "source": [
    "## Take a Quick Look at the Data Structure"
   ]
  },
  {
   "cell_type": "code",
   "execution_count": 7,
   "metadata": {},
   "outputs": [
    {
     "name": "stdout",
     "output_type": "stream",
     "text": [
      "<class 'pandas.core.frame.DataFrame'>\n",
      "RangeIndex: 191 entries, 0 to 190\n",
      "Data columns (total 2 columns):\n",
      " #   Column  Non-Null Count  Dtype  \n",
      "---  ------  --------------  -----  \n",
      " 0   year    191 non-null    int64  \n",
      " 1   temp    191 non-null    float64\n",
      "dtypes: float64(1), int64(1)\n",
      "memory usage: 3.1 KB\n"
     ]
    }
   ],
   "source": [
    "temperatures.info()"
   ]
  },
  {
   "attachments": {},
   "cell_type": "markdown",
   "metadata": {},
   "source": [
    "Observations: \n",
    "- 191 years in the dataset (1833-2022)\n",
    "- no years or temperatues are missing\n",
    "- all temp values are numeric --> clean data"
   ]
  },
  {
   "attachments": {},
   "cell_type": "markdown",
   "metadata": {},
   "source": [
    "# 3. Discover and Visualize the Data to Gain Insights"
   ]
  },
  {
   "cell_type": "code",
   "execution_count": 8,
   "metadata": {},
   "outputs": [
    {
     "data": {
      "text/html": [
       "<div>\n",
       "<style scoped>\n",
       "    .dataframe tbody tr th:only-of-type {\n",
       "        vertical-align: middle;\n",
       "    }\n",
       "\n",
       "    .dataframe tbody tr th {\n",
       "        vertical-align: top;\n",
       "    }\n",
       "\n",
       "    .dataframe thead th {\n",
       "        text-align: right;\n",
       "    }\n",
       "</style>\n",
       "<table border=\"1\" class=\"dataframe\">\n",
       "  <thead>\n",
       "    <tr style=\"text-align: right;\">\n",
       "      <th></th>\n",
       "      <th>year</th>\n",
       "      <th>temp</th>\n",
       "    </tr>\n",
       "  </thead>\n",
       "  <tbody>\n",
       "    <tr>\n",
       "      <th>0</th>\n",
       "      <td>1833</td>\n",
       "      <td>8.3</td>\n",
       "    </tr>\n",
       "    <tr>\n",
       "      <th>1</th>\n",
       "      <td>1834</td>\n",
       "      <td>9.0</td>\n",
       "    </tr>\n",
       "    <tr>\n",
       "      <th>2</th>\n",
       "      <td>1835</td>\n",
       "      <td>7.7</td>\n",
       "    </tr>\n",
       "    <tr>\n",
       "      <th>3</th>\n",
       "      <td>1836</td>\n",
       "      <td>8.2</td>\n",
       "    </tr>\n",
       "    <tr>\n",
       "      <th>4</th>\n",
       "      <td>1837</td>\n",
       "      <td>4.9</td>\n",
       "    </tr>\n",
       "  </tbody>\n",
       "</table>\n",
       "</div>"
      ],
      "text/plain": [
       "   year  temp\n",
       "0  1833   8.3\n",
       "1  1834   9.0\n",
       "2  1835   7.7\n",
       "3  1836   8.2\n",
       "4  1837   4.9"
      ]
     },
     "execution_count": 8,
     "metadata": {},
     "output_type": "execute_result"
    }
   ],
   "source": [
    "temperatures.head()"
   ]
  },
  {
   "cell_type": "code",
   "execution_count": 9,
   "metadata": {},
   "outputs": [
    {
     "data": {
      "text/html": [
       "<div>\n",
       "<style scoped>\n",
       "    .dataframe tbody tr th:only-of-type {\n",
       "        vertical-align: middle;\n",
       "    }\n",
       "\n",
       "    .dataframe tbody tr th {\n",
       "        vertical-align: top;\n",
       "    }\n",
       "\n",
       "    .dataframe thead th {\n",
       "        text-align: right;\n",
       "    }\n",
       "</style>\n",
       "<table border=\"1\" class=\"dataframe\">\n",
       "  <thead>\n",
       "    <tr style=\"text-align: right;\">\n",
       "      <th></th>\n",
       "      <th>year</th>\n",
       "      <th>temp</th>\n",
       "    </tr>\n",
       "  </thead>\n",
       "  <tbody>\n",
       "    <tr>\n",
       "      <th>186</th>\n",
       "      <td>2019</td>\n",
       "      <td>10.5</td>\n",
       "    </tr>\n",
       "    <tr>\n",
       "      <th>187</th>\n",
       "      <td>2020</td>\n",
       "      <td>11.3</td>\n",
       "    </tr>\n",
       "    <tr>\n",
       "      <th>188</th>\n",
       "      <td>2021</td>\n",
       "      <td>8.8</td>\n",
       "    </tr>\n",
       "    <tr>\n",
       "      <th>189</th>\n",
       "      <td>2022</td>\n",
       "      <td>11.3</td>\n",
       "    </tr>\n",
       "    <tr>\n",
       "      <th>190</th>\n",
       "      <td>2023</td>\n",
       "      <td>10.2</td>\n",
       "    </tr>\n",
       "  </tbody>\n",
       "</table>\n",
       "</div>"
      ],
      "text/plain": [
       "     year  temp\n",
       "186  2019  10.5\n",
       "187  2020  11.3\n",
       "188  2021   8.8\n",
       "189  2022  11.3\n",
       "190  2023  10.2"
      ]
     },
     "execution_count": 9,
     "metadata": {},
     "output_type": "execute_result"
    }
   ],
   "source": [
    "temperatures.tail()"
   ]
  },
  {
   "cell_type": "markdown",
   "metadata": {},
   "source": [
    "The describe() method shows a summary of\n",
    "the numerical attributes"
   ]
  },
  {
   "cell_type": "code",
   "execution_count": 10,
   "metadata": {},
   "outputs": [
    {
     "data": {
      "text/html": [
       "<div>\n",
       "<style scoped>\n",
       "    .dataframe tbody tr th:only-of-type {\n",
       "        vertical-align: middle;\n",
       "    }\n",
       "\n",
       "    .dataframe tbody tr th {\n",
       "        vertical-align: top;\n",
       "    }\n",
       "\n",
       "    .dataframe thead th {\n",
       "        text-align: right;\n",
       "    }\n",
       "</style>\n",
       "<table border=\"1\" class=\"dataframe\">\n",
       "  <thead>\n",
       "    <tr style=\"text-align: right;\">\n",
       "      <th></th>\n",
       "      <th>year</th>\n",
       "      <th>temp</th>\n",
       "    </tr>\n",
       "  </thead>\n",
       "  <tbody>\n",
       "    <tr>\n",
       "      <th>count</th>\n",
       "      <td>191.0000</td>\n",
       "      <td>191.000000</td>\n",
       "    </tr>\n",
       "    <tr>\n",
       "      <th>mean</th>\n",
       "      <td>1928.0000</td>\n",
       "      <td>8.876963</td>\n",
       "    </tr>\n",
       "    <tr>\n",
       "      <th>std</th>\n",
       "      <td>55.2811</td>\n",
       "      <td>1.289999</td>\n",
       "    </tr>\n",
       "    <tr>\n",
       "      <th>min</th>\n",
       "      <td>1833.0000</td>\n",
       "      <td>4.900000</td>\n",
       "    </tr>\n",
       "    <tr>\n",
       "      <th>25%</th>\n",
       "      <td>1880.5000</td>\n",
       "      <td>8.000000</td>\n",
       "    </tr>\n",
       "    <tr>\n",
       "      <th>50%</th>\n",
       "      <td>1928.0000</td>\n",
       "      <td>8.800000</td>\n",
       "    </tr>\n",
       "    <tr>\n",
       "      <th>75%</th>\n",
       "      <td>1975.5000</td>\n",
       "      <td>9.700000</td>\n",
       "    </tr>\n",
       "    <tr>\n",
       "      <th>max</th>\n",
       "      <td>2023.0000</td>\n",
       "      <td>12.300000</td>\n",
       "    </tr>\n",
       "  </tbody>\n",
       "</table>\n",
       "</div>"
      ],
      "text/plain": [
       "            year        temp\n",
       "count   191.0000  191.000000\n",
       "mean   1928.0000    8.876963\n",
       "std      55.2811    1.289999\n",
       "min    1833.0000    4.900000\n",
       "25%    1880.5000    8.000000\n",
       "50%    1928.0000    8.800000\n",
       "75%    1975.5000    9.700000\n",
       "max    2023.0000   12.300000"
      ]
     },
     "execution_count": 10,
     "metadata": {},
     "output_type": "execute_result"
    }
   ],
   "source": [
    "temperatures.describe()"
   ]
  },
  {
   "attachments": {},
   "cell_type": "markdown",
   "metadata": {},
   "source": [
    "## Plot the data in a line chart"
   ]
  },
  {
   "cell_type": "code",
   "execution_count": 13,
   "metadata": {},
   "outputs": [
    {
     "data": {
      "text/plain": [
       "Text(0, 0.5, 'Average Spring Temperature in Brussels (°C)')"
      ]
     },
     "execution_count": 13,
     "metadata": {},
     "output_type": "execute_result"
    },
    {
     "data": {
      "image/png": "[encoded data removed]",
      "text/plain": [
       "<Figure size 1080x576 with 1 Axes>"
      ]
     },
     "metadata": {
      "needs_background": "light"
     },
     "output_type": "display_data"
    }
   ],
   "source": [
    "plt.subplots(figsize=(15,8))\n",
    "plt.plot(temperatures['year'],temperatures['temp'],'b.')\n",
    "plt.xlabel(\"Year\")\n",
    "plt.ylabel(\"Average Spring Temperature in Brussels (°C)\")"
   ]
  },
  {
   "attachments": {},
   "cell_type": "markdown",
   "metadata": {},
   "source": [
    "# 4. Select and Train a Model"
   ]
  },
  {
   "attachments": {},
   "cell_type": "markdown",
   "metadata": {},
   "source": [
    "We assume their is a linear relationship between the year and the temperature. We can use Linear Regression to find the optimal straight line through the data points. \n",
    "\n",
    "Performing Linear Regression using Scikit-Learn is simple:"
   ]
  },
  {
   "cell_type": "code",
   "execution_count": 15,
   "metadata": {},
   "outputs": [
    {
     "data": {
      "text/plain": [
       "(-19.539320749517792, array([0.01473874]))"
      ]
     },
     "execution_count": 15,
     "metadata": {},
     "output_type": "execute_result"
    }
   ],
   "source": [
    "from sklearn.linear_model import LinearRegression\n",
    "\n",
    "# create an instance of the linear regression class\n",
    "lin_reg = LinearRegression()  \n",
    "\n",
    "# Fit the model to the data: calculate the parameters of the data using the appropriate mathematical algorithms. This is where the real work happens. \n",
    "lin_reg.fit(pd.DataFrame(temperatures['year']), temperatures['temp'])  # LinearRegression.fit() works only with a dataframe as first parameter\n",
    "\n",
    "# Ask the fitted model for the calculates parameters\n",
    "lin_reg.intercept_, lin_reg.coef_ "
   ]
  },
  {
   "attachments": {},
   "cell_type": "markdown",
   "metadata": {},
   "source": [
    "`intercept`: interception of the line with the Y axis   \n",
    "`coef`: slope or gradient of the curve. In this case it means there is, since 1883, an average yearly increase of 0.015 °C. "
   ]
  },
  {
   "attachments": {},
   "cell_type": "markdown",
   "metadata": {},
   "source": [
    "## 5. Use the model\n",
    "\n",
    "It's easy to visualize the fitted line: just predict two x values"
   ]
  },
  {
   "cell_type": "code",
   "execution_count": 16,
   "metadata": {},
   "outputs": [
    {
     "name": "stderr",
     "output_type": "stream",
     "text": [
      "c:\\Users\\jcor864\\AppData\\Local\\Programs\\Python\\Python310\\lib\\site-packages\\sklearn\\base.py:439: UserWarning: X does not have valid feature names, but LinearRegression was fitted with feature names\n",
      "  warnings.warn(\n"
     ]
    },
    {
     "data": {
      "text/plain": [
       "array([ 6.99040507, 11.41202604])"
      ]
     },
     "execution_count": 16,
     "metadata": {},
     "output_type": "execute_result"
    }
   ],
   "source": [
    "years = np.array([[1800], [2100]])\n",
    "temps = lin_reg.predict(years)\n",
    "temps"
   ]
  },
  {
   "cell_type": "code",
   "execution_count": 17,
   "metadata": {},
   "outputs": [
    {
     "data": {
      "text/plain": [
       "<matplotlib.legend.Legend at 0x26a3f9fb2e0>"
      ]
     },
     "execution_count": 17,
     "metadata": {},
     "output_type": "execute_result"
    },
    {
     "data": {
      "image/png": "[encoded data removed]",
      "text/plain": [
       "<Figure size 1080x360 with 1 Axes>"
      ]
     },
     "metadata": {
      "needs_background": "light"
     },
     "output_type": "display_data"
    }
   ],
   "source": [
    "plt.subplots(figsize=(15,5))\n",
    "plt.plot(temperatures['year'],temperatures['temp'],'b.',label='Measured Temperature')\n",
    "plt.plot(years, temps, \"r-\",label='Linear Model')\n",
    "plt.xlabel(\"Year\")\n",
    "plt.ylabel(\"Average Spring Temperature in Brussels (°C)\")\n",
    "plt.grid()\n",
    "plt.legend(loc='lower right')"
   ]
  },
  {
   "attachments": {},
   "cell_type": "markdown",
   "metadata": {},
   "source": [
    "The central objective of the Paris Agreement is its long-term temperature goal to hold global average temperature increase to “well below 2°C above preindustrial levels and pursuing efforts to limit the temperature increase to 1.5°C above pre-industrial levels”.  (see https://climateactiontracker.org/global/cat-thermometer/)\n",
    "\n",
    "If we assume 1850 is pre-industrial, by how much will, according to our model, the temperature (Brussels, spring) increase by 2100? "
   ]
  },
  {
   "cell_type": "code",
   "execution_count": 18,
   "metadata": {},
   "outputs": [
    {
     "name": "stderr",
     "output_type": "stream",
     "text": [
      "c:\\Users\\jcor864\\AppData\\Local\\Programs\\Python\\Python310\\lib\\site-packages\\sklearn\\base.py:439: UserWarning: X does not have valid feature names, but LinearRegression was fitted with feature names\n",
      "  warnings.warn(\n"
     ]
    },
    {
     "data": {
      "text/plain": [
       "3.684684141636815"
      ]
     },
     "execution_count": 18,
     "metadata": {},
     "output_type": "execute_result"
    }
   ],
   "source": [
    "years = np.array([[1850], [2100]])\n",
    "temps = lin_reg.predict(years)\n",
    "increase = temps[1] - temps[0]\n",
    "increase"
   ]
  },
  {
   "attachments": {},
   "cell_type": "markdown",
   "metadata": {},
   "source": [
    "# 6. Exercise\n",
    "\n",
    "- Download the summer temperatures from the same website as above. \n",
    "- Create a model for the temperatures. Do you get similar results?\n",
    "- Maybe things are getting even worse since approximately 1950. Find a way to check that. \n"
   ]
  }
 ],
 "metadata": {
  "kernelspec": {
   "display_name": "Python 3.9.12 64-bit",
   "language": "python",
   "name": "python3"
  },
  "language_info": {
   "codemirror_mode": {
    "name": "ipython",
    "version": 3
   },
   "file_extension": ".py",
   "mimetype": "text/x-python",
   "name": "python",
   "nbconvert_exporter": "python",
   "pygments_lexer": "ipython3",
   "version": "3.10.10"
  },
  "nav_menu": {
   "height": "279px",
   "width": "309px"
  },
  "toc": {
   "nav_menu": {},
   "number_sections": true,
   "sideBar": true,
   "skip_h1_title": false,
   "toc_cell": false,
   "toc_position": {},
   "toc_section_display": "block",
   "toc_window_display": false
  },
  "vscode": {
   "interpreter": {
    "hash": "11938c6bc6919ae2720b4d5011047913343b08a43b18698fd82dedb0d4417594"
   }
  }
 },
 "nbformat": 4,
 "nbformat_minor": 4
}
